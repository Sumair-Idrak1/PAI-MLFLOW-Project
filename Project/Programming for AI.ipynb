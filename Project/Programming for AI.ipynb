{
 "cells": [
  {
   "cell_type": "markdown",
   "metadata": {
    "id": "7gwyQNQKJN45"
   },
   "source": [
    "# Install packages"
   ]
  },
  {
   "cell_type": "code",
   "execution_count": 2,
   "metadata": {
    "colab": {
     "base_uri": "https://localhost:8080/"
    },
    "id": "abgq6V0KJLOQ",
    "outputId": "7e33d925-1ff3-49e9-b775-2894370a75d3"
   },
   "outputs": [
    {
     "name": "stdout",
     "output_type": "stream",
     "text": [
      "Requirement already satisfied: mlflow in /opt/conda/lib/python3.11/site-packages (2.22.0)\n",
      "Requirement already satisfied: mlflow-skinny==2.22.0 in /opt/conda/lib/python3.11/site-packages (from mlflow) (2.22.0)\n",
      "Requirement already satisfied: Flask<4 in /opt/conda/lib/python3.11/site-packages (from mlflow) (3.1.1)\n",
      "Requirement already satisfied: Jinja2<4,>=2.11 in /opt/conda/lib/python3.11/site-packages (from mlflow) (3.1.2)\n",
      "Requirement already satisfied: alembic!=1.10.0,<2 in /opt/conda/lib/python3.11/site-packages (from mlflow) (1.12.0)\n",
      "Requirement already satisfied: docker<8,>=4.0.0 in /opt/conda/lib/python3.11/site-packages (from mlflow) (7.1.0)\n",
      "Requirement already satisfied: graphene<4 in /opt/conda/lib/python3.11/site-packages (from mlflow) (3.4.3)\n",
      "Requirement already satisfied: gunicorn<24 in /opt/conda/lib/python3.11/site-packages (from mlflow) (23.0.0)\n",
      "Requirement already satisfied: markdown<4,>=3.3 in /opt/conda/lib/python3.11/site-packages (from mlflow) (3.8)\n",
      "Requirement already satisfied: matplotlib<4 in /opt/conda/lib/python3.11/site-packages (from mlflow) (3.8.0)\n",
      "Requirement already satisfied: numpy<3 in /opt/conda/lib/python3.11/site-packages (from mlflow) (1.24.4)\n",
      "Requirement already satisfied: pandas<3 in /opt/conda/lib/python3.11/site-packages (from mlflow) (2.1.1)\n",
      "Requirement already satisfied: pyarrow<20,>=4.0.0 in /opt/conda/lib/python3.11/site-packages (from mlflow) (13.0.0)\n",
      "Requirement already satisfied: scikit-learn<2 in /opt/conda/lib/python3.11/site-packages (from mlflow) (1.3.1)\n",
      "Requirement already satisfied: scipy<2 in /opt/conda/lib/python3.11/site-packages (from mlflow) (1.11.3)\n",
      "Requirement already satisfied: sqlalchemy<3,>=1.4.0 in /opt/conda/lib/python3.11/site-packages (from mlflow) (2.0.22)\n",
      "Requirement already satisfied: cachetools<6,>=5.0.0 in /opt/conda/lib/python3.11/site-packages (from mlflow-skinny==2.22.0->mlflow) (5.5.2)\n",
      "Requirement already satisfied: click<9,>=7.0 in /opt/conda/lib/python3.11/site-packages (from mlflow-skinny==2.22.0->mlflow) (8.1.7)\n",
      "Requirement already satisfied: cloudpickle<4 in /opt/conda/lib/python3.11/site-packages (from mlflow-skinny==2.22.0->mlflow) (3.0.0)\n",
      "Requirement already satisfied: databricks-sdk<1,>=0.20.0 in /opt/conda/lib/python3.11/site-packages (from mlflow-skinny==2.22.0->mlflow) (0.55.0)\n",
      "Requirement already satisfied: fastapi<1 in /opt/conda/lib/python3.11/site-packages (from mlflow-skinny==2.22.0->mlflow) (0.115.12)\n",
      "Requirement already satisfied: gitpython<4,>=3.1.9 in /opt/conda/lib/python3.11/site-packages (from mlflow-skinny==2.22.0->mlflow) (3.1.40)\n",
      "Requirement already satisfied: importlib_metadata!=4.7.0,<9,>=3.7.0 in /opt/conda/lib/python3.11/site-packages (from mlflow-skinny==2.22.0->mlflow) (6.8.0)\n",
      "Requirement already satisfied: opentelemetry-api<3,>=1.9.0 in /opt/conda/lib/python3.11/site-packages (from mlflow-skinny==2.22.0->mlflow) (1.33.1)\n",
      "Requirement already satisfied: opentelemetry-sdk<3,>=1.9.0 in /opt/conda/lib/python3.11/site-packages (from mlflow-skinny==2.22.0->mlflow) (1.33.1)\n",
      "Requirement already satisfied: packaging<25 in /opt/conda/lib/python3.11/site-packages (from mlflow-skinny==2.22.0->mlflow) (23.2)\n",
      "Requirement already satisfied: protobuf<7,>=3.12.0 in /opt/conda/lib/python3.11/site-packages (from mlflow-skinny==2.22.0->mlflow) (4.24.3)\n",
      "Requirement already satisfied: pydantic<3,>=1.10.8 in /opt/conda/lib/python3.11/site-packages (from mlflow-skinny==2.22.0->mlflow) (2.11.5)\n",
      "Requirement already satisfied: pyyaml<7,>=5.1 in /opt/conda/lib/python3.11/site-packages (from mlflow-skinny==2.22.0->mlflow) (6.0.1)\n",
      "Requirement already satisfied: requests<3,>=2.17.3 in /opt/conda/lib/python3.11/site-packages (from mlflow-skinny==2.22.0->mlflow) (2.31.0)\n",
      "Requirement already satisfied: sqlparse<1,>=0.4.0 in /opt/conda/lib/python3.11/site-packages (from mlflow-skinny==2.22.0->mlflow) (0.5.3)\n",
      "Requirement already satisfied: typing-extensions<5,>=4.0.0 in /opt/conda/lib/python3.11/site-packages (from mlflow-skinny==2.22.0->mlflow) (4.13.2)\n",
      "Requirement already satisfied: uvicorn<1 in /opt/conda/lib/python3.11/site-packages (from mlflow-skinny==2.22.0->mlflow) (0.34.3)\n",
      "Requirement already satisfied: Mako in /opt/conda/lib/python3.11/site-packages (from alembic!=1.10.0,<2->mlflow) (1.2.4)\n",
      "Requirement already satisfied: urllib3>=1.26.0 in /opt/conda/lib/python3.11/site-packages (from docker<8,>=4.0.0->mlflow) (2.0.7)\n",
      "Requirement already satisfied: blinker>=1.9.0 in /opt/conda/lib/python3.11/site-packages (from Flask<4->mlflow) (1.9.0)\n",
      "Requirement already satisfied: itsdangerous>=2.2.0 in /opt/conda/lib/python3.11/site-packages (from Flask<4->mlflow) (2.2.0)\n",
      "Requirement already satisfied: markupsafe>=2.1.1 in /opt/conda/lib/python3.11/site-packages (from Flask<4->mlflow) (2.1.3)\n",
      "Requirement already satisfied: werkzeug>=3.1.0 in /opt/conda/lib/python3.11/site-packages (from Flask<4->mlflow) (3.1.3)\n",
      "Requirement already satisfied: graphql-core<3.3,>=3.1 in /opt/conda/lib/python3.11/site-packages (from graphene<4->mlflow) (3.2.6)\n",
      "Requirement already satisfied: graphql-relay<3.3,>=3.1 in /opt/conda/lib/python3.11/site-packages (from graphene<4->mlflow) (3.2.0)\n",
      "Requirement already satisfied: python-dateutil<3,>=2.7.0 in /opt/conda/lib/python3.11/site-packages (from graphene<4->mlflow) (2.8.2)\n",
      "Requirement already satisfied: contourpy>=1.0.1 in /opt/conda/lib/python3.11/site-packages (from matplotlib<4->mlflow) (1.1.1)\n",
      "Requirement already satisfied: cycler>=0.10 in /opt/conda/lib/python3.11/site-packages (from matplotlib<4->mlflow) (0.12.1)\n",
      "Requirement already satisfied: fonttools>=4.22.0 in /opt/conda/lib/python3.11/site-packages (from matplotlib<4->mlflow) (4.43.1)\n",
      "Requirement already satisfied: kiwisolver>=1.0.1 in /opt/conda/lib/python3.11/site-packages (from matplotlib<4->mlflow) (1.4.5)\n",
      "Requirement already satisfied: pillow>=6.2.0 in /opt/conda/lib/python3.11/site-packages (from matplotlib<4->mlflow) (10.1.0)\n",
      "Requirement already satisfied: pyparsing>=2.3.1 in /opt/conda/lib/python3.11/site-packages (from matplotlib<4->mlflow) (3.1.1)\n",
      "Requirement already satisfied: pytz>=2020.1 in /opt/conda/lib/python3.11/site-packages (from pandas<3->mlflow) (2023.3.post1)\n",
      "Requirement already satisfied: tzdata>=2022.1 in /opt/conda/lib/python3.11/site-packages (from pandas<3->mlflow) (2023.3)\n",
      "Requirement already satisfied: joblib>=1.1.1 in /opt/conda/lib/python3.11/site-packages (from scikit-learn<2->mlflow) (1.3.2)\n",
      "Requirement already satisfied: threadpoolctl>=2.0.0 in /opt/conda/lib/python3.11/site-packages (from scikit-learn<2->mlflow) (3.2.0)\n",
      "Requirement already satisfied: greenlet!=0.4.17 in /opt/conda/lib/python3.11/site-packages (from sqlalchemy<3,>=1.4.0->mlflow) (3.0.0)\n",
      "Requirement already satisfied: google-auth~=2.0 in /opt/conda/lib/python3.11/site-packages (from databricks-sdk<1,>=0.20.0->mlflow-skinny==2.22.0->mlflow) (2.40.2)\n",
      "Requirement already satisfied: starlette<0.47.0,>=0.40.0 in /opt/conda/lib/python3.11/site-packages (from fastapi<1->mlflow-skinny==2.22.0->mlflow) (0.46.2)\n",
      "Requirement already satisfied: gitdb<5,>=4.0.1 in /opt/conda/lib/python3.11/site-packages (from gitpython<4,>=3.1.9->mlflow-skinny==2.22.0->mlflow) (4.0.10)\n",
      "Requirement already satisfied: zipp>=0.5 in /opt/conda/lib/python3.11/site-packages (from importlib_metadata!=4.7.0,<9,>=3.7.0->mlflow-skinny==2.22.0->mlflow) (3.17.0)\n",
      "Requirement already satisfied: deprecated>=1.2.6 in /opt/conda/lib/python3.11/site-packages (from opentelemetry-api<3,>=1.9.0->mlflow-skinny==2.22.0->mlflow) (1.2.18)\n",
      "Requirement already satisfied: opentelemetry-semantic-conventions==0.54b1 in /opt/conda/lib/python3.11/site-packages (from opentelemetry-sdk<3,>=1.9.0->mlflow-skinny==2.22.0->mlflow) (0.54b1)\n",
      "Requirement already satisfied: annotated-types>=0.6.0 in /opt/conda/lib/python3.11/site-packages (from pydantic<3,>=1.10.8->mlflow-skinny==2.22.0->mlflow) (0.7.0)\n",
      "Requirement already satisfied: pydantic-core==2.33.2 in /opt/conda/lib/python3.11/site-packages (from pydantic<3,>=1.10.8->mlflow-skinny==2.22.0->mlflow) (2.33.2)\n",
      "Requirement already satisfied: typing-inspection>=0.4.0 in /opt/conda/lib/python3.11/site-packages (from pydantic<3,>=1.10.8->mlflow-skinny==2.22.0->mlflow) (0.4.1)\n",
      "Requirement already satisfied: six>=1.5 in /opt/conda/lib/python3.11/site-packages (from python-dateutil<3,>=2.7.0->graphene<4->mlflow) (1.16.0)\n",
      "Requirement already satisfied: charset-normalizer<4,>=2 in /opt/conda/lib/python3.11/site-packages (from requests<3,>=2.17.3->mlflow-skinny==2.22.0->mlflow) (3.3.0)\n",
      "Requirement already satisfied: idna<4,>=2.5 in /opt/conda/lib/python3.11/site-packages (from requests<3,>=2.17.3->mlflow-skinny==2.22.0->mlflow) (3.4)\n",
      "Requirement already satisfied: certifi>=2017.4.17 in /opt/conda/lib/python3.11/site-packages (from requests<3,>=2.17.3->mlflow-skinny==2.22.0->mlflow) (2023.7.22)\n",
      "Requirement already satisfied: h11>=0.8 in /opt/conda/lib/python3.11/site-packages (from uvicorn<1->mlflow-skinny==2.22.0->mlflow) (0.16.0)\n",
      "Requirement already satisfied: wrapt<2,>=1.10 in /opt/conda/lib/python3.11/site-packages (from deprecated>=1.2.6->opentelemetry-api<3,>=1.9.0->mlflow-skinny==2.22.0->mlflow) (1.17.2)\n",
      "Requirement already satisfied: smmap<6,>=3.0.1 in /opt/conda/lib/python3.11/site-packages (from gitdb<5,>=4.0.1->gitpython<4,>=3.1.9->mlflow-skinny==2.22.0->mlflow) (3.0.5)\n",
      "Requirement already satisfied: pyasn1-modules>=0.2.1 in /opt/conda/lib/python3.11/site-packages (from google-auth~=2.0->databricks-sdk<1,>=0.20.0->mlflow-skinny==2.22.0->mlflow) (0.4.2)\n",
      "Requirement already satisfied: rsa<5,>=3.1.4 in /opt/conda/lib/python3.11/site-packages (from google-auth~=2.0->databricks-sdk<1,>=0.20.0->mlflow-skinny==2.22.0->mlflow) (4.9.1)\n",
      "Requirement already satisfied: anyio<5,>=3.6.2 in /opt/conda/lib/python3.11/site-packages (from starlette<0.47.0,>=0.40.0->fastapi<1->mlflow-skinny==2.22.0->mlflow) (4.0.0)\n",
      "Requirement already satisfied: sniffio>=1.1 in /opt/conda/lib/python3.11/site-packages (from anyio<5,>=3.6.2->starlette<0.47.0,>=0.40.0->fastapi<1->mlflow-skinny==2.22.0->mlflow) (1.3.0)\n",
      "Requirement already satisfied: pyasn1<0.7.0,>=0.6.1 in /opt/conda/lib/python3.11/site-packages (from pyasn1-modules>=0.2.1->google-auth~=2.0->databricks-sdk<1,>=0.20.0->mlflow-skinny==2.22.0->mlflow) (0.6.1)\n"
     ]
    }
   ],
   "source": [
    "!pip install mlflow"
   ]
  },
  {
   "cell_type": "markdown",
   "metadata": {
    "id": "hVdbIdXYw1rW"
   },
   "source": [
    "# Import Library"
   ]
  },
  {
   "cell_type": "code",
   "execution_count": null,
   "metadata": {},
   "outputs": [],
   "source": []
  },
  {
   "cell_type": "code",
   "execution_count": 3,
   "metadata": {
    "id": "dgTh4K2_5IOZ"
   },
   "outputs": [],
   "source": [
    "# 📦 Import libraries\n",
    "import pandas as pd\n",
    "import numpy as np\n",
    "from sklearn.model_selection import train_test_split\n",
    "from sklearn.preprocessing import StandardScaler\n",
    "from sklearn.impute import SimpleImputer\n",
    "from sklearn.linear_model import LogisticRegression\n",
    "from sklearn.tree import DecisionTreeClassifier\n",
    "from sklearn.ensemble import RandomForestClassifier\n",
    "from sklearn.svm import SVC\n",
    "from sklearn.neighbors import KNeighborsClassifier\n",
    "from sklearn.naive_bayes import GaussianNB\n",
    "from sklearn.pipeline import Pipeline\n",
    "from sklearn.metrics import accuracy_score, precision_score, recall_score, f1_score , confusion_matrix\n",
    "import matplotlib.pyplot as plt\n",
    "import seaborn as sns\n",
    "import mlflow\n",
    "import mlflow.sklearn\n",
    "from mlflow.models.signature import infer_signature"
   ]
  },
  {
   "cell_type": "markdown",
   "metadata": {
    "id": "3OeA4PLgxSW4"
   },
   "source": [
    "# Load Dataset"
   ]
  },
  {
   "cell_type": "code",
   "execution_count": 4,
   "metadata": {
    "id": "OT_P7Z7Dw3pT"
   },
   "outputs": [
    {
     "data": {
      "text/html": [
       "<div>\n",
       "<style scoped>\n",
       "    .dataframe tbody tr th:only-of-type {\n",
       "        vertical-align: middle;\n",
       "    }\n",
       "\n",
       "    .dataframe tbody tr th {\n",
       "        vertical-align: top;\n",
       "    }\n",
       "\n",
       "    .dataframe thead th {\n",
       "        text-align: right;\n",
       "    }\n",
       "</style>\n",
       "<table border=\"1\" class=\"dataframe\">\n",
       "  <thead>\n",
       "    <tr style=\"text-align: right;\">\n",
       "      <th></th>\n",
       "      <th>0</th>\n",
       "      <th>1</th>\n",
       "      <th>2</th>\n",
       "      <th>3</th>\n",
       "      <th>4</th>\n",
       "      <th>5</th>\n",
       "      <th>6</th>\n",
       "      <th>7</th>\n",
       "      <th>8</th>\n",
       "    </tr>\n",
       "  </thead>\n",
       "  <tbody>\n",
       "    <tr>\n",
       "      <th>0</th>\n",
       "      <td>6</td>\n",
       "      <td>148</td>\n",
       "      <td>72</td>\n",
       "      <td>35</td>\n",
       "      <td>0</td>\n",
       "      <td>33.6</td>\n",
       "      <td>0.627</td>\n",
       "      <td>50</td>\n",
       "      <td>1</td>\n",
       "    </tr>\n",
       "    <tr>\n",
       "      <th>1</th>\n",
       "      <td>1</td>\n",
       "      <td>85</td>\n",
       "      <td>66</td>\n",
       "      <td>29</td>\n",
       "      <td>0</td>\n",
       "      <td>26.6</td>\n",
       "      <td>0.351</td>\n",
       "      <td>31</td>\n",
       "      <td>0</td>\n",
       "    </tr>\n",
       "  </tbody>\n",
       "</table>\n",
       "</div>"
      ],
      "text/plain": [
       "   0    1   2   3  4     5      6   7  8\n",
       "0  6  148  72  35  0  33.6  0.627  50  1\n",
       "1  1   85  66  29  0  26.6  0.351  31  0"
      ]
     },
     "execution_count": 4,
     "metadata": {},
     "output_type": "execute_result"
    }
   ],
   "source": [
    "# prompt: load dataset form drive\n",
    "\n",
    "df = pd.read_csv('https://raw.githubusercontent.com/jbrownlee/Datasets/master/pima-indians-diabetes.data.csv', header=None)\n",
    "df.head(2)"
   ]
  },
  {
   "cell_type": "code",
   "execution_count": 5,
   "metadata": {},
   "outputs": [
    {
     "data": {
      "text/html": [
       "<div>\n",
       "<style scoped>\n",
       "    .dataframe tbody tr th:only-of-type {\n",
       "        vertical-align: middle;\n",
       "    }\n",
       "\n",
       "    .dataframe tbody tr th {\n",
       "        vertical-align: top;\n",
       "    }\n",
       "\n",
       "    .dataframe thead th {\n",
       "        text-align: right;\n",
       "    }\n",
       "</style>\n",
       "<table border=\"1\" class=\"dataframe\">\n",
       "  <thead>\n",
       "    <tr style=\"text-align: right;\">\n",
       "      <th></th>\n",
       "      <th>Pregnancies</th>\n",
       "      <th>Glucose</th>\n",
       "      <th>BloodPressure</th>\n",
       "      <th>SkinThickness</th>\n",
       "      <th>Insulin</th>\n",
       "      <th>BMI</th>\n",
       "      <th>DiabetesPedigreeFunction</th>\n",
       "      <th>Age</th>\n",
       "      <th>Outcome</th>\n",
       "    </tr>\n",
       "  </thead>\n",
       "  <tbody>\n",
       "    <tr>\n",
       "      <th>0</th>\n",
       "      <td>6</td>\n",
       "      <td>148</td>\n",
       "      <td>72</td>\n",
       "      <td>35</td>\n",
       "      <td>0</td>\n",
       "      <td>33.6</td>\n",
       "      <td>0.627</td>\n",
       "      <td>50</td>\n",
       "      <td>1</td>\n",
       "    </tr>\n",
       "    <tr>\n",
       "      <th>1</th>\n",
       "      <td>1</td>\n",
       "      <td>85</td>\n",
       "      <td>66</td>\n",
       "      <td>29</td>\n",
       "      <td>0</td>\n",
       "      <td>26.6</td>\n",
       "      <td>0.351</td>\n",
       "      <td>31</td>\n",
       "      <td>0</td>\n",
       "    </tr>\n",
       "  </tbody>\n",
       "</table>\n",
       "</div>"
      ],
      "text/plain": [
       "   Pregnancies  Glucose  BloodPressure  SkinThickness  Insulin   BMI  \\\n",
       "0            6      148             72             35        0  33.6   \n",
       "1            1       85             66             29        0  26.6   \n",
       "\n",
       "   DiabetesPedigreeFunction  Age  Outcome  \n",
       "0                     0.627   50        1  \n",
       "1                     0.351   31        0  "
      ]
     },
     "execution_count": 5,
     "metadata": {},
     "output_type": "execute_result"
    }
   ],
   "source": [
    "df.columns = [\n",
    "        \"Pregnancies\", \"Glucose\", \"BloodPressure\", \"SkinThickness\",\n",
    "        \"Insulin\", \"BMI\", \"DiabetesPedigreeFunction\", \"Age\", \"Outcome\"\n",
    "    ]\n",
    "df.head(2)"
   ]
  },
  {
   "cell_type": "code",
   "execution_count": 6,
   "metadata": {},
   "outputs": [],
   "source": [
    "cols_to_fix = [\"Glucose\", \"BloodPressure\", \"SkinThickness\", \"Insulin\", \"BMI\"]\n",
    "df[cols_to_fix] = df[cols_to_fix].replace(0, np.nan)"
   ]
  },
  {
   "cell_type": "code",
   "execution_count": 7,
   "metadata": {},
   "outputs": [],
   "source": [
    "df.drop_duplicates(inplace=True)"
   ]
  },
  {
   "cell_type": "code",
   "execution_count": 8,
   "metadata": {},
   "outputs": [
    {
     "data": {
      "text/plain": [
       "Pregnancies                   0\n",
       "Glucose                       5\n",
       "BloodPressure                35\n",
       "SkinThickness               227\n",
       "Insulin                     374\n",
       "BMI                          11\n",
       "DiabetesPedigreeFunction      0\n",
       "Age                           0\n",
       "Outcome                       0\n",
       "dtype: int64"
      ]
     },
     "execution_count": 8,
     "metadata": {},
     "output_type": "execute_result"
    }
   ],
   "source": [
    "df.isnull().sum()"
   ]
  },
  {
   "cell_type": "code",
   "execution_count": 9,
   "metadata": {},
   "outputs": [
    {
     "name": "stdout",
     "output_type": "stream",
     "text": [
      "Pregnancies                 0\n",
      "Glucose                     0\n",
      "BloodPressure               0\n",
      "SkinThickness               0\n",
      "Insulin                     0\n",
      "BMI                         0\n",
      "DiabetesPedigreeFunction    0\n",
      "Age                         0\n",
      "Outcome                     0\n",
      "dtype: int64\n"
     ]
    }
   ],
   "source": [
    "numerical_cols = df.select_dtypes(include=['number']).columns\n",
    "\n",
    "# Create a pipeline with SimpleImputer\n",
    "imputer_pipeline = Pipeline([\n",
    "    ('imputer', SimpleImputer(strategy='mean')),\n",
    "    ('scaler', StandardScaler())\n",
    "])\n",
    "\n",
    "# Fit and transform the numerical columns of your DataFrame\n",
    "df[numerical_cols] = imputer_pipeline.fit_transform(df[numerical_cols])\n",
    "\n",
    "# Verify that the missing values have been imputed\n",
    "print(df.isnull().sum())"
   ]
  },
  {
   "cell_type": "markdown",
   "metadata": {
    "id": "XgT4thLy6MrE"
   },
   "source": [
    "# Train-Test Split"
   ]
  },
  {
   "cell_type": "code",
   "execution_count": 10,
   "metadata": {},
   "outputs": [],
   "source": [
    "df['Outcome'] = df['Outcome'].astype(int)"
   ]
  },
  {
   "cell_type": "code",
   "execution_count": 11,
   "metadata": {
    "id": "tY3MI53-5cm8"
   },
   "outputs": [],
   "source": [
    "X = df.drop('Outcome', axis=1)\n",
    "y = df['Outcome']"
   ]
  },
  {
   "cell_type": "markdown",
   "metadata": {
    "id": "Vfi0ruOY7Yqy"
   },
   "source": [
    "# Standard Scaling"
   ]
  },
  {
   "cell_type": "code",
   "execution_count": 12,
   "metadata": {
    "id": "wgdU8RAP6gW7"
   },
   "outputs": [],
   "source": [
    "X_train, X_test, y_train, y_test = train_test_split(\n",
    "    X, y, test_size=0.2, random_state=42, stratify=y\n",
    ")\n",
    "\n",
    "# Standardize features for models like SVM, Logistic Regression\n",
    "scaler = StandardScaler()\n",
    "X_train_scaled = scaler.fit_transform(X_train)\n",
    "X_test_scaled = scaler.transform(X_test)"
   ]
  },
  {
   "cell_type": "code",
   "execution_count": 13,
   "metadata": {},
   "outputs": [
    {
     "name": "stdout",
     "output_type": "stream",
     "text": [
      "--- Before Logistic Regression Fit ---\n",
      "Data type of y_train: <class 'pandas.core.series.Series'>\n",
      "Data type of y_train[0]: <class 'numpy.int64'>\n",
      "Unique values in y_train: [0 1]\n",
      "Number of positive samples in y_train: 214\n",
      "Number of negative samples in y_train: 400\n",
      "---------------------------------------\n"
     ]
    }
   ],
   "source": [
    "print(\"--- Before Logistic Regression Fit ---\")\n",
    "print(\"Data type of y_train:\", type(y_train))\n",
    "print(\"Data type of y_train[0]:\", type(y_train.iloc[0]))\n",
    "print(\"Unique values in y_train:\", y_train.unique())\n",
    "print(\"Number of positive samples in y_train:\", y_train.sum())\n",
    "print(\"Number of negative samples in y_train:\", len(y_train) - y_train.sum())\n",
    "print(\"---------------------------------------\")\n"
   ]
  },
  {
   "cell_type": "markdown",
   "metadata": {
    "id": "VtG1o2Na76tL"
   },
   "source": [
    "# Model Training and Evaluation"
   ]
  },
  {
   "cell_type": "code",
   "execution_count": 14,
   "metadata": {
    "id": "pBpgOwlx7wph"
   },
   "outputs": [],
   "source": [
    "results = {}\n",
    "    \n",
    "# Logistic Regression\n",
    "lr_model = LogisticRegression(max_iter=1000, random_state=42)\n",
    "lr_model.fit(X_train_scaled, y_train)\n",
    "lr_pred = lr_model.predict(X_test_scaled)\n",
    "results['Logistic Regression'] = {\n",
    "    'accuracy': accuracy_score(y_test, lr_pred),\n",
    "    'precision': precision_score(y_test, lr_pred),\n",
    "    'recall': recall_score(y_test, lr_pred),\n",
    "    'f1': f1_score(y_test, lr_pred)\n",
    "}\n",
    "\n",
    "# Decision Tree\n",
    "dt_model = DecisionTreeClassifier(criterion='entropy', random_state=42)\n",
    "dt_model.fit(X_train, y_train)\n",
    "dt_pred = dt_model.predict(X_test)\n",
    "results['Decision Tree'] = {\n",
    "    'accuracy': accuracy_score(y_test, dt_pred),\n",
    "    'precision': precision_score(y_test, dt_pred),\n",
    "    'recall': recall_score(y_test, dt_pred),\n",
    "    'f1': f1_score(y_test, dt_pred)\n",
    "}\n",
    "\n",
    "# Random Forest\n",
    "rf_model = RandomForestClassifier(n_estimators=50, random_state=42)\n",
    "rf_model.fit(X_train, y_train)\n",
    "rf_pred = rf_model.predict(X_test)\n",
    "results['Random Forest'] = {\n",
    "    'accuracy': accuracy_score(y_test, rf_pred),\n",
    "    'precision': precision_score(y_test, rf_pred),\n",
    "    'recall': recall_score(y_test, rf_pred),\n",
    "    'f1': f1_score(y_test, rf_pred)\n",
    "}\n",
    "\n",
    "# SVM\n",
    "svm_model = SVC(probability=True, random_state=42)\n",
    "svm_model.fit(X_train_scaled, y_train)\n",
    "svm_pred = svm_model.predict(X_test_scaled)\n",
    "results['SVM'] = {\n",
    "    'accuracy': accuracy_score(y_test, svm_pred),\n",
    "    'precision': precision_score(y_test, svm_pred),\n",
    "    'recall': recall_score(y_test, svm_pred),\n",
    "    'f1': f1_score(y_test, svm_pred)\n",
    "}\n",
    "\n",
    "# K-Nearest Neighbors\n",
    "knn_model = KNeighborsClassifier(n_neighbors=7)\n",
    "knn_model.fit(X_train_scaled, y_train)\n",
    "knn_pred = knn_model.predict(X_test_scaled)\n",
    "results['K-Nearest Neighbors'] = {\n",
    "    'accuracy': accuracy_score(y_test, knn_pred),\n",
    "    'precision': precision_score(y_test, knn_pred),\n",
    "    'recall': recall_score(y_test, knn_pred),\n",
    "    'f1': f1_score(y_test, knn_pred)\n",
    "}\n",
    "\n",
    "# Naive Bayes\n",
    "nb_model = GaussianNB()\n",
    "nb_model.fit(X_train, y_train)\n",
    "nb_pred = nb_model.predict(X_test)\n",
    "results['Naive Bayes'] = {\n",
    "    'accuracy': accuracy_score(y_test, nb_pred),\n",
    "    'precision': precision_score(y_test, nb_pred),\n",
    "    'recall': recall_score(y_test, nb_pred),\n",
    "    'f1': f1_score(y_test, nb_pred)\n",
    "}\n"
   ]
  },
  {
   "cell_type": "markdown",
   "metadata": {
    "id": "QQBpWAko81xJ"
   },
   "source": [
    "# Results and Graphical Representation"
   ]
  },
  {
   "cell_type": "code",
   "execution_count": 15,
   "metadata": {
    "colab": {
     "base_uri": "https://localhost:8080/",
     "height": 0
    },
    "id": "h65vDeoM87hP",
    "outputId": "4af5e1c4-bbf6-47d0-ccc1-fc97844e403f"
   },
   "outputs": [
    {
     "data": {
      "text/html": [
       "<div>\n",
       "<style scoped>\n",
       "    .dataframe tbody tr th:only-of-type {\n",
       "        vertical-align: middle;\n",
       "    }\n",
       "\n",
       "    .dataframe tbody tr th {\n",
       "        vertical-align: top;\n",
       "    }\n",
       "\n",
       "    .dataframe thead th {\n",
       "        text-align: right;\n",
       "    }\n",
       "</style>\n",
       "<table border=\"1\" class=\"dataframe\">\n",
       "  <thead>\n",
       "    <tr style=\"text-align: right;\">\n",
       "      <th></th>\n",
       "      <th>accuracy</th>\n",
       "      <th>precision</th>\n",
       "      <th>recall</th>\n",
       "      <th>f1</th>\n",
       "    </tr>\n",
       "  </thead>\n",
       "  <tbody>\n",
       "    <tr>\n",
       "      <th>Logistic Regression</th>\n",
       "      <td>0.694805</td>\n",
       "      <td>0.577778</td>\n",
       "      <td>0.481481</td>\n",
       "      <td>0.525253</td>\n",
       "    </tr>\n",
       "    <tr>\n",
       "      <th>Decision Tree</th>\n",
       "      <td>0.629870</td>\n",
       "      <td>0.471698</td>\n",
       "      <td>0.462963</td>\n",
       "      <td>0.467290</td>\n",
       "    </tr>\n",
       "    <tr>\n",
       "      <th>Random Forest</th>\n",
       "      <td>0.772727</td>\n",
       "      <td>0.711111</td>\n",
       "      <td>0.592593</td>\n",
       "      <td>0.646465</td>\n",
       "    </tr>\n",
       "    <tr>\n",
       "      <th>SVM</th>\n",
       "      <td>0.733766</td>\n",
       "      <td>0.644444</td>\n",
       "      <td>0.537037</td>\n",
       "      <td>0.585859</td>\n",
       "    </tr>\n",
       "    <tr>\n",
       "      <th>K-Nearest Neighbors</th>\n",
       "      <td>0.746753</td>\n",
       "      <td>0.647059</td>\n",
       "      <td>0.611111</td>\n",
       "      <td>0.628571</td>\n",
       "    </tr>\n",
       "    <tr>\n",
       "      <th>Naive Bayes</th>\n",
       "      <td>0.694805</td>\n",
       "      <td>0.557377</td>\n",
       "      <td>0.629630</td>\n",
       "      <td>0.591304</td>\n",
       "    </tr>\n",
       "  </tbody>\n",
       "</table>\n",
       "</div>"
      ],
      "text/plain": [
       "                     accuracy  precision    recall        f1\n",
       "Logistic Regression  0.694805   0.577778  0.481481  0.525253\n",
       "Decision Tree        0.629870   0.471698  0.462963  0.467290\n",
       "Random Forest        0.772727   0.711111  0.592593  0.646465\n",
       "SVM                  0.733766   0.644444  0.537037  0.585859\n",
       "K-Nearest Neighbors  0.746753   0.647059  0.611111  0.628571\n",
       "Naive Bayes          0.694805   0.557377  0.629630  0.591304"
      ]
     },
     "execution_count": 15,
     "metadata": {},
     "output_type": "execute_result"
    }
   ],
   "source": [
    "# Convert dictionary to DataFrame for plotting\n",
    "results_df = pd.DataFrame(results).T\n",
    "results_df"
   ]
  },
  {
   "cell_type": "code",
   "execution_count": 16,
   "metadata": {
    "colab": {
     "base_uri": "https://localhost:8080/",
     "height": 0
    },
    "id": "T8tvciGg74G8",
    "outputId": "0ef7e5e2-9ea2-4c18-ca4e-5159be0d970d"
   },
   "outputs": [
    {
     "name": "stderr",
     "output_type": "stream",
     "text": [
      "/tmp/ipykernel_471/1735400792.py:6: FutureWarning: \n",
      "\n",
      "Passing `palette` without assigning `hue` is deprecated and will be removed in v0.14.0. Assign the `x` variable to `hue` and set `legend=False` for the same effect.\n",
      "\n",
      "  sns.barplot(x=results_df.index, y=results_df[metric], ax=ax, palette=\"Set2\")\n",
      "/tmp/ipykernel_471/1735400792.py:6: FutureWarning: \n",
      "\n",
      "Passing `palette` without assigning `hue` is deprecated and will be removed in v0.14.0. Assign the `x` variable to `hue` and set `legend=False` for the same effect.\n",
      "\n",
      "  sns.barplot(x=results_df.index, y=results_df[metric], ax=ax, palette=\"Set2\")\n",
      "/tmp/ipykernel_471/1735400792.py:6: FutureWarning: \n",
      "\n",
      "Passing `palette` without assigning `hue` is deprecated and will be removed in v0.14.0. Assign the `x` variable to `hue` and set `legend=False` for the same effect.\n",
      "\n",
      "  sns.barplot(x=results_df.index, y=results_df[metric], ax=ax, palette=\"Set2\")\n",
      "/tmp/ipykernel_471/1735400792.py:6: FutureWarning: \n",
      "\n",
      "Passing `palette` without assigning `hue` is deprecated and will be removed in v0.14.0. Assign the `x` variable to `hue` and set `legend=False` for the same effect.\n",
      "\n",
      "  sns.barplot(x=results_df.index, y=results_df[metric], ax=ax, palette=\"Set2\")\n"
     ]
    },
    {
     "data": {
      "image/png": "[encoded data removed]",
      "text/plain": [
       "<Figure size 1400x1000 with 4 Axes>"
      ]
     },
     "metadata": {},
     "output_type": "display_data"
    },
    {
     "name": "stdout",
     "output_type": "stream",
     "text": [
      "                     accuracy  precision    recall        f1\n",
      "Logistic Regression  0.694805   0.577778  0.481481  0.525253\n",
      "Decision Tree        0.629870   0.471698  0.462963  0.467290\n",
      "Random Forest        0.772727   0.711111  0.592593  0.646465\n",
      "SVM                  0.733766   0.644444  0.537037  0.585859\n",
      "K-Nearest Neighbors  0.746753   0.647059  0.611111  0.628571\n",
      "Naive Bayes          0.694805   0.557377  0.629630  0.591304\n"
     ]
    }
   ],
   "source": [
    "# Plotting the comparison of metrics\n",
    "fig, axes = plt.subplots(2, 2, figsize=(14, 10))\n",
    "metrics = ['accuracy', 'precision', 'recall', 'f1']\n",
    "for i, metric in enumerate(metrics):\n",
    "    ax = axes[i//2][i%2]\n",
    "    sns.barplot(x=results_df.index, y=results_df[metric], ax=ax, palette=\"Set2\")\n",
    "    ax.set_title(f'{metric.capitalize()} Comparison')\n",
    "    ax.set_ylabel(metric.capitalize())\n",
    "    ax.set_ylim(0, 1)\n",
    "    ax.tick_params(axis='x', rotation=45)\n",
    "\n",
    "plt.tight_layout()\n",
    "plt.show()\n",
    "\n",
    "# Print final metrics table\n",
    "print(results_df)"
   ]
  },
  {
   "cell_type": "markdown",
   "metadata": {
    "id": "RNM8Gru-KRTy"
   },
   "source": [
    "# MLflow Tracking"
   ]
  },
  {
   "cell_type": "code",
   "execution_count": 17,
   "metadata": {},
   "outputs": [
    {
     "name": "stderr",
     "output_type": "stream",
     "text": [
      "2025/06/02 09:40:43 INFO mlflow.tracking.fluent: Experiment with name 'Pima Indians Diabetes Classification' does not exist. Creating a new experiment.\n"
     ]
    }
   ],
   "source": [
    "mlflow.set_tracking_uri(\"http://mlflow:5000\")\n",
    "mlflow.set_experiment(\"Pima Indians Diabetes Classification\")\n",
    "class_names = [\"Non-Diabetic\", \"Diabetic\"]\n"
   ]
  },
  {
   "cell_type": "code",
   "execution_count": 18,
   "metadata": {
    "colab": {
     "base_uri": "https://localhost:8080/"
    },
    "id": "Po-dS16v8Dm3",
    "outputId": "182f293d-636a-4eff-cc4f-8044ffe3f0a2"
   },
   "outputs": [
    {
     "name": "stderr",
     "output_type": "stream",
     "text": [
      "\u001b[31m2025/06/02 09:40:52 WARNING mlflow.models.model: Model logged without a signature and input example. Please set `input_example` parameter when logging the model to auto infer the model signature.\u001b[0m\n"
     ]
    },
    {
     "name": "stdout",
     "output_type": "stream",
     "text": [
      "🏃 View run Logistic Regression at: http://mlflow:5000/#/experiments/766733439696880257/runs/4f45461d057b432ea0762742c7869849\n",
      "🧪 View experiment at: http://mlflow:5000/#/experiments/766733439696880257\n"
     ]
    }
   ],
   "source": [
    "with mlflow.start_run(run_name=\"Logistic Regression\"):\n",
    "    lr_model = LogisticRegression(max_iter=1000, random_state=42)\n",
    "    lr_model.fit(X_train_scaled, y_train)\n",
    "    lr_pred = lr_model.predict(X_test_scaled)\n",
    "    acc = accuracy_score(y_test, lr_pred)\n",
    "    prec = precision_score(y_test, lr_pred)\n",
    "    rec = recall_score(y_test, lr_pred)\n",
    "    f1 = f1_score(y_test, lr_pred)\n",
    "    mlflow.log_metric(\"accuracy\", acc)\n",
    "    mlflow.log_metric(\"precision\", prec)\n",
    "    mlflow.log_metric(\"recall\", rec)\n",
    "    mlflow.log_metric(\"f1_score\", f1)\n",
    "    mlflow.sklearn.log_model(lr_model, \"logistic_regression_model\")\n",
    "    results[\"Logistic Regression\"] = {'accuracy': acc, 'precision': prec, 'recall': rec, 'f1': f1}\n",
    "\n",
    "    cm = confusion_matrix(y_test, lr_pred)\n",
    "    plt.figure(figsize=(8, 6))\n",
    "    sns.heatmap(cm, annot=True, fmt='d', cmap='Blues',\n",
    "                xticklabels=class_names, yticklabels=class_names)\n",
    "    plt.xlabel('Predicted Label')\n",
    "    plt.ylabel('True Label')\n",
    "    plt.title('Confusion Matrix - Logistic Regression')\n",
    "    mlflow.log_figure(plt.gcf(), \"confusion_matrix_logistic_regression.png\")\n",
    "    plt.close()"
   ]
  },
  {
   "cell_type": "code",
   "execution_count": 19,
   "metadata": {
    "colab": {
     "base_uri": "https://localhost:8080/"
    },
    "id": "S8Y5aGU9KxWg",
    "outputId": "c3bb2d04-0d3a-415a-ea82-0aab2a12d26d"
   },
   "outputs": [
    {
     "name": "stderr",
     "output_type": "stream",
     "text": [
      "\u001b[31m2025/06/02 09:41:00 WARNING mlflow.models.model: Model logged without a signature and input example. Please set `input_example` parameter when logging the model to auto infer the model signature.\u001b[0m\n"
     ]
    },
    {
     "name": "stdout",
     "output_type": "stream",
     "text": [
      "🏃 View run Decision Tree at: http://mlflow:5000/#/experiments/766733439696880257/runs/d387ea37f01b4c4a98f3b4e34a36d40b\n",
      "🧪 View experiment at: http://mlflow:5000/#/experiments/766733439696880257\n"
     ]
    }
   ],
   "source": [
    "# Decision Tree\n",
    "with mlflow.start_run(run_name=\"Decision Tree\"):\n",
    "    dt_model = DecisionTreeClassifier(criterion='entropy', random_state=42)\n",
    "    dt_model.fit(X_train, y_train)\n",
    "    dt_pred = dt_model.predict(X_test)\n",
    "    acc = accuracy_score(y_test, dt_pred)\n",
    "    prec = precision_score(y_test, dt_pred)\n",
    "    rec = recall_score(y_test, dt_pred)\n",
    "    f1 = f1_score(y_test, dt_pred)\n",
    "    mlflow.log_metric(\"accuracy\", acc)\n",
    "    mlflow.log_metric(\"precision\", prec)\n",
    "    mlflow.log_metric(\"recall\", rec)\n",
    "    mlflow.log_metric(\"f1_score\", f1)\n",
    "    mlflow.sklearn.log_model(dt_model, \"decision_tree_model\")\n",
    "    results[\"Decision Tree\"] = {'accuracy': acc, 'precision': prec, 'recall': rec, 'f1': f1}\n",
    "\n",
    "    cm = confusion_matrix(y_test, dt_pred)\n",
    "    plt.figure(figsize=(8, 6))\n",
    "    sns.heatmap(cm, annot=True, fmt='d', cmap='Blues',\n",
    "                xticklabels=class_names, yticklabels=class_names)\n",
    "    plt.xlabel('Predicted Label')\n",
    "    plt.ylabel('True Label')\n",
    "    plt.title('Confusion Matrix - Decision Tree')\n",
    "    mlflow.log_figure(plt.gcf(), \"confusion_matrix_decision_tree.png\")\n",
    "    plt.close()"
   ]
  },
  {
   "cell_type": "code",
   "execution_count": 20,
   "metadata": {
    "colab": {
     "base_uri": "https://localhost:8080/"
    },
    "id": "mimBbOJ7LN8j",
    "outputId": "fca8d852-01e5-4b90-950a-92bf0fcfafbc"
   },
   "outputs": [
    {
     "name": "stderr",
     "output_type": "stream",
     "text": [
      "\u001b[31m2025/06/02 09:41:07 WARNING mlflow.models.model: Model logged without a signature and input example. Please set `input_example` parameter when logging the model to auto infer the model signature.\u001b[0m\n"
     ]
    },
    {
     "name": "stdout",
     "output_type": "stream",
     "text": [
      "🏃 View run Random Forest at: http://mlflow:5000/#/experiments/766733439696880257/runs/59c72abd572c409abf8bd7b1856cd6a0\n",
      "🧪 View experiment at: http://mlflow:5000/#/experiments/766733439696880257\n"
     ]
    }
   ],
   "source": [
    "# Random Forest\n",
    "with mlflow.start_run(run_name=\"Random Forest\"):\n",
    "    rf_model = RandomForestClassifier(n_estimators=50, random_state=42)\n",
    "    rf_model.fit(X_train, y_train)\n",
    "    rf_pred = rf_model.predict(X_test)\n",
    "    acc = accuracy_score(y_test, rf_pred)\n",
    "    prec = precision_score(y_test, rf_pred)\n",
    "    rec = recall_score(y_test, rf_pred)\n",
    "    f1 = f1_score(y_test, rf_pred)\n",
    "    mlflow.log_metric(\"accuracy\", acc)\n",
    "    mlflow.log_metric(\"precision\", prec)\n",
    "    mlflow.log_metric(\"recall\", rec)\n",
    "    mlflow.log_metric(\"f1_score\", f1)\n",
    "    mlflow.sklearn.log_model(rf_model, \"random_forest_model\")\n",
    "    results[\"Random Forest\"] = {'accuracy': acc, 'precision': prec, 'recall': rec, 'f1': f1}\n",
    "\n",
    "    cm = confusion_matrix(y_test, rf_pred)\n",
    "    plt.figure(figsize=(8, 6))\n",
    "    sns.heatmap(cm, annot=True, fmt='d', cmap='Blues',\n",
    "                xticklabels=class_names, yticklabels=class_names)\n",
    "    plt.xlabel('Predicted Label')\n",
    "    plt.ylabel('True Label')\n",
    "    plt.title('Confusion Matrix - Random Forest')\n",
    "    mlflow.log_figure(plt.gcf(), \"confusion_matrix_random_forest.png\")\n",
    "    plt.close()"
   ]
  },
  {
   "cell_type": "code",
   "execution_count": 21,
   "metadata": {
    "colab": {
     "base_uri": "https://localhost:8080/"
    },
    "id": "SdBvpOp1Lb5d",
    "outputId": "ecf38cb3-76d3-4754-e7a3-a0f346ca4019"
   },
   "outputs": [
    {
     "name": "stderr",
     "output_type": "stream",
     "text": [
      "\u001b[31m2025/06/02 09:41:14 WARNING mlflow.models.model: Model logged without a signature and input example. Please set `input_example` parameter when logging the model to auto infer the model signature.\u001b[0m\n"
     ]
    },
    {
     "name": "stdout",
     "output_type": "stream",
     "text": [
      "🏃 View run SVM at: http://mlflow:5000/#/experiments/766733439696880257/runs/0f426f548c234ab18201e9b6cbff13c8\n",
      "🧪 View experiment at: http://mlflow:5000/#/experiments/766733439696880257\n"
     ]
    }
   ],
   "source": [
    "# SVM\n",
    "with mlflow.start_run(run_name=\"SVM\"):\n",
    "    svm_model = SVC(probability=True, random_state=42)\n",
    "    svm_model.fit(X_train_scaled, y_train)\n",
    "    svm_pred = svm_model.predict(X_test_scaled)\n",
    "    acc = accuracy_score(y_test, svm_pred)\n",
    "    prec = precision_score(y_test, svm_pred)\n",
    "    rec = recall_score(y_test, svm_pred)\n",
    "    f1 = f1_score(y_test, svm_pred)\n",
    "    mlflow.log_metric(\"accuracy\", acc)\n",
    "    mlflow.log_metric(\"precision\", prec)\n",
    "    mlflow.log_metric(\"recall\", rec)\n",
    "    mlflow.log_metric(\"f1_score\", f1)\n",
    "    mlflow.sklearn.log_model(svm_model, \"svm_model\")\n",
    "    results[\"SVM\"] = {'accuracy': acc, 'precision': prec, 'recall': rec, 'f1': f1}\n",
    "\n",
    "    cm = confusion_matrix(y_test, svm_pred)\n",
    "    plt.figure(figsize=(8, 6))\n",
    "    sns.heatmap(cm, annot=True, fmt='d', cmap='Blues',\n",
    "                xticklabels=class_names, yticklabels=class_names)\n",
    "    plt.xlabel('Predicted Label')\n",
    "    plt.ylabel('True Label')\n",
    "    plt.title('Confusion Matrix - SVM')\n",
    "    mlflow.log_figure(plt.gcf(), \"confusion_matrix_svm.png\")\n",
    "    plt.close()"
   ]
  },
  {
   "cell_type": "code",
   "execution_count": 22,
   "metadata": {},
   "outputs": [
    {
     "name": "stderr",
     "output_type": "stream",
     "text": [
      "\u001b[31m2025/06/02 09:41:20 WARNING mlflow.models.model: Model logged without a signature and input example. Please set `input_example` parameter when logging the model to auto infer the model signature.\u001b[0m\n"
     ]
    },
    {
     "name": "stdout",
     "output_type": "stream",
     "text": [
      "🏃 View run K-Nearest Neighbors at: http://mlflow:5000/#/experiments/766733439696880257/runs/97750fa2809b4ba8b1eb1094cc69e947\n",
      "🧪 View experiment at: http://mlflow:5000/#/experiments/766733439696880257\n"
     ]
    }
   ],
   "source": [
    "# K-Nearest Neighbors\n",
    "with mlflow.start_run(run_name=\"K-Nearest Neighbors\"):\n",
    "    knn_model = KNeighborsClassifier(n_neighbors=7)\n",
    "    knn_model.fit(X_train_scaled, y_train)\n",
    "    knn_pred = knn_model.predict(X_test_scaled)\n",
    "    acc = accuracy_score(y_test, knn_pred)\n",
    "    prec = precision_score(y_test, knn_pred)\n",
    "    rec = recall_score(y_test, knn_pred)\n",
    "    f1 = f1_score(y_test, knn_pred)\n",
    "    mlflow.log_metric(\"accuracy\", acc)\n",
    "    mlflow.log_metric(\"precision\", prec)\n",
    "    mlflow.log_metric(\"recall\", rec)\n",
    "    mlflow.log_metric(\"f1_score\", f1)\n",
    "    mlflow.sklearn.log_model(knn_model, \"knn_model\")\n",
    "    results[\"K-Nearest Neighbors\"] = {'accuracy': acc, 'precision': prec, 'recall': rec, 'f1': f1}\n",
    "\n",
    "    cm = confusion_matrix(y_test, knn_pred)\n",
    "    plt.figure(figsize=(8, 6))\n",
    "    sns.heatmap(cm, annot=True, fmt='d', cmap='Blues',\n",
    "                xticklabels=class_names, yticklabels=class_names)\n",
    "    plt.xlabel('Predicted Label')\n",
    "    plt.ylabel('True Label')\n",
    "    plt.title('Confusion Matrix - K-Nearest Neighbors')\n",
    "    mlflow.log_figure(plt.gcf(), \"confusion_matrix_knn.png\")\n",
    "    plt.close()"
   ]
  },
  {
   "cell_type": "code",
   "execution_count": 23,
   "metadata": {},
   "outputs": [
    {
     "name": "stderr",
     "output_type": "stream",
     "text": [
      "\u001b[31m2025/06/02 09:41:29 WARNING mlflow.models.model: Model logged without a signature and input example. Please set `input_example` parameter when logging the model to auto infer the model signature.\u001b[0m\n"
     ]
    },
    {
     "name": "stdout",
     "output_type": "stream",
     "text": [
      "🏃 View run Naive Bayes at: http://mlflow:5000/#/experiments/766733439696880257/runs/69b441197e5347d88ceb9886d4fecbe1\n",
      "🧪 View experiment at: http://mlflow:5000/#/experiments/766733439696880257\n"
     ]
    }
   ],
   "source": [
    "# Naive Bayes\n",
    "with mlflow.start_run(run_name=\"Naive Bayes\"):\n",
    "    nb_model = GaussianNB()\n",
    "    nb_model.fit(X_train, y_train)\n",
    "    nb_pred = nb_model.predict(X_test)\n",
    "    acc = accuracy_score(y_test, nb_pred)\n",
    "    prec = precision_score(y_test, nb_pred)\n",
    "    rec = recall_score(y_test, nb_pred)\n",
    "    f1 = f1_score(y_test, nb_pred)\n",
    "    mlflow.log_metric(\"accuracy\", acc)\n",
    "    mlflow.log_metric(\"precision\", prec)\n",
    "    mlflow.log_metric(\"recall\", rec)\n",
    "    mlflow.log_metric(\"f1_score\", f1)\n",
    "    mlflow.sklearn.log_model(nb_model, \"naive_bayes_model\")\n",
    "    results[\"Naive Bayes\"] = {'accuracy': acc, 'precision': prec, 'recall': rec, 'f1': f1}\n",
    "\n",
    "    cm = confusion_matrix(y_test, nb_pred)\n",
    "    plt.figure(figsize=(8, 6))\n",
    "    sns.heatmap(cm, annot=True, fmt='d', cmap='Blues',\n",
    "                xticklabels=class_names, yticklabels=class_names)\n",
    "    plt.xlabel('Predicted Label')\n",
    "    plt.ylabel('True Label')\n",
    "    plt.title('Confusion Matrix - Naive Bayes')\n",
    "    mlflow.log_figure(plt.gcf(), \"confusion_matrix_naive_bayes.png\")\n",
    "    plt.close()"
   ]
  },
  {
   "cell_type": "code",
   "execution_count": 24,
   "metadata": {},
   "outputs": [
    {
     "name": "stdout",
     "output_type": "stream",
     "text": [
      "\n",
      "--- Model Performance ---\n",
      "Logistic Regression  Accuracy: 0.694805 Precision: 0.577778 Recall: 0.481481 F1: 0.525253\n",
      "Decision Tree        Accuracy: 0.629870 Precision: 0.471698 Recall: 0.462963 F1: 0.467290\n",
      "Random Forest        Accuracy: 0.772727 Precision: 0.711111 Recall: 0.592593 F1: 0.646465\n",
      "SVM                  Accuracy: 0.733766 Precision: 0.644444 Recall: 0.537037 F1: 0.585859\n",
      "K-Nearest Neighbors  Accuracy: 0.746753 Precision: 0.647059 Recall: 0.611111 F1: 0.628571\n",
      "Naive Bayes          Accuracy: 0.694805 Precision: 0.557377 Recall: 0.629630 F1: 0.591304\n"
     ]
    }
   ],
   "source": [
    "# Print the results\n",
    "print(\"\\n--- Model Performance ---\")\n",
    "for model_name, metrics in results.items():\n",
    "    print(f\"{model_name:<20} Accuracy: {metrics['accuracy']:.6f} Precision: {metrics['precision']:.6f} Recall: {metrics['recall']:.6f} F1: {metrics['f1']:.6f}\")\n"
   ]
  },
  {
   "cell_type": "markdown",
   "metadata": {
    "id": "CL6Silu6PUnW"
   },
   "source": [
    "# 3feature-5feature-Allfeature Evaluation for MLFLOW"
   ]
  },
  {
   "cell_type": "code",
   "execution_count": 25,
   "metadata": {},
   "outputs": [
    {
     "name": "stdout",
     "output_type": "stream",
     "text": [
      "\n",
      "--- Evaluating with 3 Features ---\n"
     ]
    },
    {
     "name": "stderr",
     "output_type": "stream",
     "text": [
      "\u001b[31m2025/06/02 09:41:41 WARNING mlflow.models.model: Model logged without a signature and input example. Please set `input_example` parameter when logging the model to auto infer the model signature.\u001b[0m\n"
     ]
    },
    {
     "name": "stdout",
     "output_type": "stream",
     "text": [
      "🏃 View run Naive Bayes - 3 Features at: http://mlflow:5000/#/experiments/766733439696880257/runs/5b0e951aebc5425383e732cb8c928957\n",
      "🧪 View experiment at: http://mlflow:5000/#/experiments/766733439696880257\n"
     ]
    },
    {
     "name": "stderr",
     "output_type": "stream",
     "text": [
      "\u001b[31m2025/06/02 09:41:48 WARNING mlflow.models.model: Model logged without a signature and input example. Please set `input_example` parameter when logging the model to auto infer the model signature.\u001b[0m\n"
     ]
    },
    {
     "name": "stdout",
     "output_type": "stream",
     "text": [
      "🏃 View run K-Nearest Neighbors - 3 Features at: http://mlflow:5000/#/experiments/766733439696880257/runs/ba6a22d5d12d4005bb7c06ac07137a8e\n",
      "🧪 View experiment at: http://mlflow:5000/#/experiments/766733439696880257\n"
     ]
    },
    {
     "name": "stderr",
     "output_type": "stream",
     "text": [
      "\u001b[31m2025/06/02 09:41:55 WARNING mlflow.models.model: Model logged without a signature and input example. Please set `input_example` parameter when logging the model to auto infer the model signature.\u001b[0m\n"
     ]
    },
    {
     "name": "stdout",
     "output_type": "stream",
     "text": [
      "🏃 View run Decision Tree - 3 Features at: http://mlflow:5000/#/experiments/766733439696880257/runs/799658bb47594f468540190824ab8b39\n",
      "🧪 View experiment at: http://mlflow:5000/#/experiments/766733439696880257\n"
     ]
    },
    {
     "name": "stderr",
     "output_type": "stream",
     "text": [
      "\u001b[31m2025/06/02 09:42:03 WARNING mlflow.models.model: Model logged without a signature and input example. Please set `input_example` parameter when logging the model to auto infer the model signature.\u001b[0m\n"
     ]
    },
    {
     "name": "stdout",
     "output_type": "stream",
     "text": [
      "🏃 View run Random Forest - 3 Features at: http://mlflow:5000/#/experiments/766733439696880257/runs/e86fcd5391f1461ba4244f29430fcdd9\n",
      "🧪 View experiment at: http://mlflow:5000/#/experiments/766733439696880257\n"
     ]
    },
    {
     "name": "stderr",
     "output_type": "stream",
     "text": [
      "\u001b[31m2025/06/02 09:42:11 WARNING mlflow.models.model: Model logged without a signature and input example. Please set `input_example` parameter when logging the model to auto infer the model signature.\u001b[0m\n"
     ]
    },
    {
     "name": "stdout",
     "output_type": "stream",
     "text": [
      "🏃 View run Logistic Regression - 3 Features at: http://mlflow:5000/#/experiments/766733439696880257/runs/1b8a3626c4944ee6b588959e6505c503\n",
      "🧪 View experiment at: http://mlflow:5000/#/experiments/766733439696880257\n"
     ]
    },
    {
     "name": "stderr",
     "output_type": "stream",
     "text": [
      "\u001b[31m2025/06/02 09:42:19 WARNING mlflow.models.model: Model logged without a signature and input example. Please set `input_example` parameter when logging the model to auto infer the model signature.\u001b[0m\n"
     ]
    },
    {
     "name": "stdout",
     "output_type": "stream",
     "text": [
      "🏃 View run SVM - 3 Features at: http://mlflow:5000/#/experiments/766733439696880257/runs/b58161456a9b4c26b5304a8da3955468\n",
      "🧪 View experiment at: http://mlflow:5000/#/experiments/766733439696880257\n",
      "\n",
      "--- Evaluating with 5 Features ---\n"
     ]
    },
    {
     "name": "stderr",
     "output_type": "stream",
     "text": [
      "\u001b[31m2025/06/02 09:42:25 WARNING mlflow.models.model: Model logged without a signature and input example. Please set `input_example` parameter when logging the model to auto infer the model signature.\u001b[0m\n"
     ]
    },
    {
     "name": "stdout",
     "output_type": "stream",
     "text": [
      "🏃 View run Naive Bayes - 5 Features at: http://mlflow:5000/#/experiments/766733439696880257/runs/a7d1602220404fd582ef56f551a694be\n",
      "🧪 View experiment at: http://mlflow:5000/#/experiments/766733439696880257\n"
     ]
    },
    {
     "name": "stderr",
     "output_type": "stream",
     "text": [
      "\u001b[31m2025/06/02 09:42:33 WARNING mlflow.models.model: Model logged without a signature and input example. Please set `input_example` parameter when logging the model to auto infer the model signature.\u001b[0m\n"
     ]
    },
    {
     "name": "stdout",
     "output_type": "stream",
     "text": [
      "🏃 View run K-Nearest Neighbors - 5 Features at: http://mlflow:5000/#/experiments/766733439696880257/runs/5e9cace3e81343c08b473a99339ad506\n",
      "🧪 View experiment at: http://mlflow:5000/#/experiments/766733439696880257\n"
     ]
    },
    {
     "name": "stderr",
     "output_type": "stream",
     "text": [
      "\u001b[31m2025/06/02 09:42:40 WARNING mlflow.models.model: Model logged without a signature and input example. Please set `input_example` parameter when logging the model to auto infer the model signature.\u001b[0m\n"
     ]
    },
    {
     "name": "stdout",
     "output_type": "stream",
     "text": [
      "🏃 View run Decision Tree - 5 Features at: http://mlflow:5000/#/experiments/766733439696880257/runs/70ab7f9af9d04720b48b6fc243d44707\n",
      "🧪 View experiment at: http://mlflow:5000/#/experiments/766733439696880257\n"
     ]
    },
    {
     "name": "stderr",
     "output_type": "stream",
     "text": [
      "\u001b[31m2025/06/02 09:42:46 WARNING mlflow.models.model: Model logged without a signature and input example. Please set `input_example` parameter when logging the model to auto infer the model signature.\u001b[0m\n"
     ]
    },
    {
     "name": "stdout",
     "output_type": "stream",
     "text": [
      "🏃 View run Random Forest - 5 Features at: http://mlflow:5000/#/experiments/766733439696880257/runs/16ed342fe1bf41569b2f0d77aa680389\n",
      "🧪 View experiment at: http://mlflow:5000/#/experiments/766733439696880257\n"
     ]
    },
    {
     "name": "stderr",
     "output_type": "stream",
     "text": [
      "\u001b[31m2025/06/02 09:42:52 WARNING mlflow.models.model: Model logged without a signature and input example. Please set `input_example` parameter when logging the model to auto infer the model signature.\u001b[0m\n"
     ]
    },
    {
     "name": "stdout",
     "output_type": "stream",
     "text": [
      "🏃 View run Logistic Regression - 5 Features at: http://mlflow:5000/#/experiments/766733439696880257/runs/e5cc14f04e0c4693b397e4042921ca11\n",
      "🧪 View experiment at: http://mlflow:5000/#/experiments/766733439696880257\n"
     ]
    },
    {
     "name": "stderr",
     "output_type": "stream",
     "text": [
      "\u001b[31m2025/06/02 09:42:59 WARNING mlflow.models.model: Model logged without a signature and input example. Please set `input_example` parameter when logging the model to auto infer the model signature.\u001b[0m\n"
     ]
    },
    {
     "name": "stdout",
     "output_type": "stream",
     "text": [
      "🏃 View run SVM - 5 Features at: http://mlflow:5000/#/experiments/766733439696880257/runs/e1f48bfbdfad42448b565c7e744d2d2e\n",
      "🧪 View experiment at: http://mlflow:5000/#/experiments/766733439696880257\n",
      "\n",
      "--- Evaluating with All Features ---\n"
     ]
    },
    {
     "name": "stderr",
     "output_type": "stream",
     "text": [
      "\u001b[31m2025/06/02 09:43:04 WARNING mlflow.models.model: Model logged without a signature and input example. Please set `input_example` parameter when logging the model to auto infer the model signature.\u001b[0m\n"
     ]
    },
    {
     "name": "stdout",
     "output_type": "stream",
     "text": [
      "🏃 View run Naive Bayes - All Features at: http://mlflow:5000/#/experiments/766733439696880257/runs/5ab31ede2bdd41eabd03138241466388\n",
      "🧪 View experiment at: http://mlflow:5000/#/experiments/766733439696880257\n"
     ]
    },
    {
     "name": "stderr",
     "output_type": "stream",
     "text": [
      "\u001b[31m2025/06/02 09:43:11 WARNING mlflow.models.model: Model logged without a signature and input example. Please set `input_example` parameter when logging the model to auto infer the model signature.\u001b[0m\n"
     ]
    },
    {
     "name": "stdout",
     "output_type": "stream",
     "text": [
      "🏃 View run K-Nearest Neighbors - All Features at: http://mlflow:5000/#/experiments/766733439696880257/runs/3bfa31f6cb244470bf49c17717a8193a\n",
      "🧪 View experiment at: http://mlflow:5000/#/experiments/766733439696880257\n"
     ]
    },
    {
     "name": "stderr",
     "output_type": "stream",
     "text": [
      "\u001b[31m2025/06/02 09:43:16 WARNING mlflow.models.model: Model logged without a signature and input example. Please set `input_example` parameter when logging the model to auto infer the model signature.\u001b[0m\n"
     ]
    },
    {
     "name": "stdout",
     "output_type": "stream",
     "text": [
      "🏃 View run Decision Tree - All Features at: http://mlflow:5000/#/experiments/766733439696880257/runs/e52df51999334b0b944641755043de13\n",
      "🧪 View experiment at: http://mlflow:5000/#/experiments/766733439696880257\n"
     ]
    },
    {
     "name": "stderr",
     "output_type": "stream",
     "text": [
      "\u001b[31m2025/06/02 09:43:23 WARNING mlflow.models.model: Model logged without a signature and input example. Please set `input_example` parameter when logging the model to auto infer the model signature.\u001b[0m\n"
     ]
    },
    {
     "name": "stdout",
     "output_type": "stream",
     "text": [
      "🏃 View run Random Forest - All Features at: http://mlflow:5000/#/experiments/766733439696880257/runs/5073f633cc44493492b67991ab89a80a\n",
      "🧪 View experiment at: http://mlflow:5000/#/experiments/766733439696880257\n"
     ]
    },
    {
     "name": "stderr",
     "output_type": "stream",
     "text": [
      "\u001b[31m2025/06/02 09:43:27 WARNING mlflow.models.model: Model logged without a signature and input example. Please set `input_example` parameter when logging the model to auto infer the model signature.\u001b[0m\n"
     ]
    },
    {
     "name": "stdout",
     "output_type": "stream",
     "text": [
      "🏃 View run Logistic Regression - All Features at: http://mlflow:5000/#/experiments/766733439696880257/runs/8b431782cdb542e484b9ee5a02121e95\n",
      "🧪 View experiment at: http://mlflow:5000/#/experiments/766733439696880257\n"
     ]
    },
    {
     "name": "stderr",
     "output_type": "stream",
     "text": [
      "\u001b[31m2025/06/02 09:43:32 WARNING mlflow.models.model: Model logged without a signature and input example. Please set `input_example` parameter when logging the model to auto infer the model signature.\u001b[0m\n"
     ]
    },
    {
     "name": "stdout",
     "output_type": "stream",
     "text": [
      "🏃 View run SVM - All Features at: http://mlflow:5000/#/experiments/766733439696880257/runs/721194667dc14a67ab34c097c1981801\n",
      "🧪 View experiment at: http://mlflow:5000/#/experiments/766733439696880257\n",
      "\n",
      "--- Performance Comparison Across Feature Sets ---\n",
      "\n",
      "--- Accuracy ---\n",
      "                     3 Features  5 Features  All Features\n",
      "Naive Bayes            0.688312    0.688312      0.694805\n",
      "K-Nearest Neighbors    0.733766    0.727273      0.746753\n",
      "Decision Tree          0.655844    0.655844      0.629870\n",
      "Random Forest          0.688312    0.759740      0.772727\n",
      "Logistic Regression    0.720779    0.720779      0.694805\n",
      "SVM                    0.701299    0.707792      0.733766\n",
      "\n",
      "--- Precision ---\n",
      "                     3 Features  5 Features  All Features\n",
      "Naive Bayes            0.568182    0.555556      0.557377\n",
      "K-Nearest Neighbors    0.651163    0.611111      0.647059\n",
      "Decision Tree          0.511111    0.508772      0.471698\n",
      "Random Forest          0.568182    0.654545      0.711111\n",
      "Logistic Regression    0.627907    0.617021      0.577778\n",
      "SVM                    0.605263    0.600000      0.644444\n",
      "\n",
      "--- Recall ---\n",
      "                     3 Features  5 Features  All Features\n",
      "Naive Bayes            0.462963    0.555556      0.629630\n",
      "K-Nearest Neighbors    0.518519    0.611111      0.611111\n",
      "Decision Tree          0.425926    0.537037      0.462963\n",
      "Random Forest          0.462963    0.666667      0.592593\n",
      "Logistic Regression    0.500000    0.537037      0.481481\n",
      "SVM                    0.425926    0.500000      0.537037\n",
      "\n",
      "--- F1 ---\n",
      "                     3 Features  5 Features  All Features\n",
      "Naive Bayes            0.510204    0.555556      0.591304\n",
      "K-Nearest Neighbors    0.577320    0.611111      0.628571\n",
      "Decision Tree          0.464646    0.522523      0.467290\n",
      "Random Forest          0.510204    0.660550      0.646465\n",
      "Logistic Regression    0.556701    0.574257      0.525253\n",
      "SVM                    0.500000    0.545455      0.585859\n",
      "🏃 View run Pima Diabetes Analysis at: http://mlflow:5000/#/experiments/766733439696880257/runs/5ffa0b6d822b49a1b21c6aaf4e8624ec\n",
      "🧪 View experiment at: http://mlflow:5000/#/experiments/766733439696880257\n"
     ]
    },
    {
     "data": {
      "text/plain": [
       "<Figure size 1200x700 with 0 Axes>"
      ]
     },
     "metadata": {},
     "output_type": "display_data"
    },
    {
     "data": {
      "text/plain": [
       "<Figure size 1200x700 with 0 Axes>"
      ]
     },
     "metadata": {},
     "output_type": "display_data"
    },
    {
     "data": {
      "text/plain": [
       "<Figure size 1200x700 with 0 Axes>"
      ]
     },
     "metadata": {},
     "output_type": "display_data"
    },
    {
     "data": {
      "text/plain": [
       "<Figure size 1200x700 with 0 Axes>"
      ]
     },
     "metadata": {},
     "output_type": "display_data"
    }
   ],
   "source": [
    "from sklearn.feature_selection import SelectKBest, f_classif\n",
    "\n",
    "if mlflow.active_run():\n",
    "    mlflow.end_run()\n",
    "\n",
    "with mlflow.start_run(run_name=\"Pima Diabetes Analysis\"):\n",
    "    results_comparison = {}\n",
    "    feature_sets = {'3 Features': 3, '5 Features': 5, 'All Features': X_train.shape[1]}\n",
    "    models = {\n",
    "        'Naive Bayes': GaussianNB(),\n",
    "        'K-Nearest Neighbors': KNeighborsClassifier(n_neighbors=7),\n",
    "        'Decision Tree': DecisionTreeClassifier(criterion='entropy', random_state=42),\n",
    "        'Random Forest': RandomForestClassifier(n_estimators=50, random_state=42),\n",
    "        'Logistic Regression': LogisticRegression(max_iter=1000, random_state=42),\n",
    "        'SVM': SVC(probability=True, random_state=42)\n",
    "    }\n",
    "\n",
    "    for fs_name, n_features in feature_sets.items():\n",
    "        mlflow.set_tag(\"feature_set\", fs_name)\n",
    "        print(f\"\\n--- Evaluating with {fs_name} ---\")\n",
    "\n",
    "        if fs_name != 'All Features':\n",
    "            selector = SelectKBest(score_func=f_classif, k=n_features)\n",
    "            X_train_selected = selector.fit_transform(X_train, y_train)\n",
    "            X_test_selected = selector.transform(X_test)\n",
    "\n",
    "            scaler_fs = StandardScaler()\n",
    "            X_train_scaled = scaler_fs.fit_transform(X_train_selected)\n",
    "            X_test_scaled = scaler_fs.transform(X_test_selected)\n",
    "        else:\n",
    "            scaler_fs = StandardScaler()\n",
    "            X_train_scaled = scaler_fs.fit_transform(X_train)\n",
    "            X_test_scaled = scaler_fs.transform(X_test)\n",
    "            X_train_selected = X_train\n",
    "            X_test_selected = X_test\n",
    "\n",
    "        results_comparison[fs_name] = {}\n",
    "\n",
    "        for model_name, model in models.items():\n",
    "            with mlflow.start_run(run_name=f\"{model_name} - {fs_name}\", nested=True):\n",
    "                mlflow.log_param(\"n_features\", n_features)\n",
    "                mlflow.log_param(\"feature_set_name\", fs_name)\n",
    "                mlflow.log_param(\"model_name\", model_name)\n",
    "\n",
    "                try:\n",
    "                    if model_name in ['Logistic Regression', 'SVM', 'K-Nearest Neighbors']:\n",
    "                        model.fit(X_train_scaled, y_train)\n",
    "                        y_pred = model.predict(X_test_scaled)\n",
    "                    else:\n",
    "                        model.fit(X_train_selected, y_train)\n",
    "                        y_pred = model.predict(X_test_selected)\n",
    "\n",
    "                    acc = accuracy_score(y_test, y_pred)\n",
    "                    prec = precision_score(y_test, y_pred)\n",
    "                    rec = recall_score(y_test, y_pred)\n",
    "                    f1 = f1_score(y_test, y_pred)\n",
    "\n",
    "                    mlflow.log_metric(\"accuracy\", acc)\n",
    "                    mlflow.log_metric(\"precision\", prec)\n",
    "                    mlflow.log_metric(\"recall\", rec)\n",
    "                    mlflow.log_metric(\"f1_score\", f1)\n",
    "                    mlflow.sklearn.log_model(model, f\"{model_name.replace(' ', '_')}_{fs_name.replace(' ', '_')}\")\n",
    "\n",
    "                    cm = confusion_matrix(y_test, y_pred)\n",
    "                    plt.figure(figsize=(8, 6))\n",
    "                    sns.heatmap(cm, annot=True, fmt='d', cmap='Blues',\n",
    "                                xticklabels=['No Diabetes', 'Diabetes'], yticklabels=['No Diabetes', 'Diabetes'])\n",
    "                    plt.xlabel('Predicted Label')\n",
    "                    plt.ylabel('True Label')\n",
    "                    plt.title(f'Confusion Matrix - {model_name} - {fs_name}')\n",
    "                    mlflow.log_figure(plt.gcf(), f\"confusion_matrix_{model_name.replace(' ', '_')}_{fs_name.replace(' ', '_')}.png\")\n",
    "                    plt.close()\n",
    "\n",
    "                    if fs_name not in results_comparison:\n",
    "                        results_comparison[fs_name] = {}\n",
    "                    results_comparison[fs_name][model_name] = {\n",
    "                        'accuracy': acc,\n",
    "                        'precision': prec,\n",
    "                        'recall': rec,\n",
    "                        'f1': f1\n",
    "                    }\n",
    "\n",
    "                except Exception as e:\n",
    "                    print(f\"Error during model evaluation ({model_name} - {fs_name}): {e}\")\n",
    "\n",
    "    # --- Performance Comparison Across Feature Sets ---\n",
    "    print(\"\\n--- Performance Comparison Across Feature Sets ---\")\n",
    "    for metric in ['accuracy', 'precision', 'recall', 'f1']:\n",
    "        print(f\"\\n--- {metric.capitalize()} ---\")\n",
    "        metric_data = {}\n",
    "        for fs_name in feature_sets:\n",
    "            metric_data[fs_name] = {}\n",
    "            for model_name in models:\n",
    "                if fs_name in results_comparison and model_name in results_comparison[fs_name] and metric in results_comparison[fs_name][model_name]:\n",
    "                    metric_data[fs_name][model_name] = results_comparison[fs_name][model_name][metric]\n",
    "                else:\n",
    "                    metric_data[fs_name][model_name] = float('nan') # Handle missing data\n",
    "\n",
    "        df_metric = pd.DataFrame(metric_data)\n",
    "        print(df_metric)\n",
    "\n",
    "        # Generate and log the comparison plot to MLflow\n",
    "        plt.figure(figsize=(12, 7))\n",
    "        df_metric.plot(kind='bar', figsize=(12, 7))\n",
    "        plt.title(f'{metric.capitalize()} Comparison Across Feature Sets')\n",
    "        plt.ylabel(metric.capitalize())\n",
    "        plt.xticks(rotation=45, ha='right')\n",
    "        plt.tight_layout()\n",
    "        mlflow.log_figure(plt.gcf(), f\"{metric}_comparison_across_feature_sets.png\")\n",
    "        plt.close()"
   ]
  },
  {
   "cell_type": "markdown",
   "metadata": {
    "id": "CL6Silu6PUnW"
   },
   "source": [
    "# 3feature-5feature-Allfeature Evaluation plotting for Notebook"
   ]
  },
  {
   "cell_type": "code",
   "execution_count": 26,
   "metadata": {},
   "outputs": [
    {
     "name": "stdout",
     "output_type": "stream",
     "text": [
      "\n",
      "--- Performance Comparison Across Feature Sets ---\n",
      "\n",
      "--- Accuracy ---\n",
      "                     3 Features  5 Features  All Features\n",
      "Naive Bayes            0.688312    0.688312      0.694805\n",
      "K-Nearest Neighbors    0.733766    0.727273      0.746753\n",
      "Decision Tree          0.655844    0.655844      0.629870\n",
      "Random Forest          0.688312    0.759740      0.772727\n",
      "Logistic Regression    0.720779    0.720779      0.694805\n",
      "SVM                    0.701299    0.707792      0.733766\n"
     ]
    },
    {
     "data": {
      "image/png": "[encoded data removed]",
      "text/plain": [
       "<Figure size 1200x700 with 1 Axes>"
      ]
     },
     "metadata": {},
     "output_type": "display_data"
    },
    {
     "name": "stdout",
     "output_type": "stream",
     "text": [
      "\n",
      "--- Precision ---\n",
      "                     3 Features  5 Features  All Features\n",
      "Naive Bayes            0.568182    0.555556      0.557377\n",
      "K-Nearest Neighbors    0.651163    0.611111      0.647059\n",
      "Decision Tree          0.511111    0.508772      0.471698\n",
      "Random Forest          0.568182    0.654545      0.711111\n",
      "Logistic Regression    0.627907    0.617021      0.577778\n",
      "SVM                    0.605263    0.600000      0.644444\n"
     ]
    },
    {
     "data": {
      "image/png": "[encoded data removed]",
      "text/plain": [
       "<Figure size 1200x700 with 1 Axes>"
      ]
     },
     "metadata": {},
     "output_type": "display_data"
    },
    {
     "name": "stdout",
     "output_type": "stream",
     "text": [
      "\n",
      "--- Recall ---\n",
      "                     3 Features  5 Features  All Features\n",
      "Naive Bayes            0.462963    0.555556      0.629630\n",
      "K-Nearest Neighbors    0.518519    0.611111      0.611111\n",
      "Decision Tree          0.425926    0.537037      0.462963\n",
      "Random Forest          0.462963    0.666667      0.592593\n",
      "Logistic Regression    0.500000    0.537037      0.481481\n",
      "SVM                    0.425926    0.500000      0.537037\n"
     ]
    },
    {
     "data": {
      "image/png": "[encoded data removed]",
      "text/plain": [
       "<Figure size 1200x700 with 1 Axes>"
      ]
     },
     "metadata": {},
     "output_type": "display_data"
    },
    {
     "name": "stdout",
     "output_type": "stream",
     "text": [
      "\n",
      "--- F1 ---\n",
      "                     3 Features  5 Features  All Features\n",
      "Naive Bayes            0.510204    0.555556      0.591304\n",
      "K-Nearest Neighbors    0.577320    0.611111      0.628571\n",
      "Decision Tree          0.464646    0.522523      0.467290\n",
      "Random Forest          0.510204    0.660550      0.646465\n",
      "Logistic Regression    0.556701    0.574257      0.525253\n",
      "SVM                    0.500000    0.545455      0.585859\n"
     ]
    },
    {
     "data": {
      "image/png": "[encoded data removed]",
      "text/plain": [
       "<Figure size 1200x700 with 1 Axes>"
      ]
     },
     "metadata": {},
     "output_type": "display_data"
    }
   ],
   "source": [
    "    print(\"\\n--- Performance Comparison Across Feature Sets ---\")\n",
    "    for metric in ['accuracy', 'precision', 'recall', 'f1']:\n",
    "        print(f\"\\n--- {metric.capitalize()} ---\")\n",
    "        metric_data = {}\n",
    "        for fs_name in feature_sets:\n",
    "            metric_data[fs_name] = {}\n",
    "            for model_name in models:\n",
    "                if fs_name in results_comparison and model_name in results_comparison[fs_name] and metric in results_comparison[fs_name][model_name]:\n",
    "                    metric_data[fs_name][model_name] = results_comparison[fs_name][model_name][metric]\n",
    "                else:\n",
    "                    metric_data[fs_name][model_name] = float('nan') # Handle missing data\n",
    "\n",
    "        df_metric = pd.DataFrame(metric_data)\n",
    "        print(df_metric)\n",
    "        df_metric.plot(kind='bar', figsize=(12, 7))\n",
    "        plt.title(f'{metric.capitalize()} Comparison Across Feature Sets')\n",
    "        plt.ylabel(metric.capitalize())\n",
    "        plt.xticks(rotation=45, ha='right')\n",
    "        plt.tight_layout()\n",
    "        plt.show()"
   ]
  },
  {
   "cell_type": "markdown",
   "metadata": {
    "id": "CL6Silu6PUnW"
   },
   "source": [
    "# Comparative Analysis for Notebook"
   ]
  },
  {
   "cell_type": "code",
   "execution_count": 27,
   "metadata": {},
   "outputs": [
    {
     "data": {
      "image/png": "[encoded data removed]",
      "text/plain": [
       "<Figure size 1600x800 with 1 Axes>"
      ]
     },
     "metadata": {},
     "output_type": "display_data"
    }
   ],
   "source": [
    "# Paper accuracy values\n",
    "paper_accuracy = pd.DataFrame({\n",
    "    'Only Imputation': {\n",
    "        'Decision Tree': 0.7478,\n",
    "        'Random Forest': 0.7957,\n",
    "        'Naive Bayes': 0.7867\n",
    "    },\n",
    "    '3 Features': {\n",
    "        'Decision Tree': 0.7522,\n",
    "        'Random Forest': 0.7522,\n",
    "        'Naive Bayes': 0.7913\n",
    "    },\n",
    "    '5 Features': {\n",
    "        'Decision Tree': 0.7565,\n",
    "        'Random Forest': 0.7391,\n",
    "        'Naive Bayes': 0.7783\n",
    "    }\n",
    "})\n",
    "\n",
    "# Your accuracy values — make sure these match your actual `results_comparison` dictionary\n",
    "your_accuracy = pd.DataFrame({\n",
    "    'Only Imputation': {\n",
    "        'Decision Tree': results_comparison['All Features']['Decision Tree']['accuracy'],\n",
    "        'Random Forest': results_comparison['All Features']['Random Forest']['accuracy'],\n",
    "        'Naive Bayes': results_comparison['All Features']['Naive Bayes']['accuracy']\n",
    "    },\n",
    "    '3 Features': {\n",
    "        'Decision Tree': results_comparison['3 Features']['Decision Tree']['accuracy'],\n",
    "        'Random Forest': results_comparison['3 Features']['Random Forest']['accuracy'],\n",
    "        'Naive Bayes': results_comparison['3 Features']['Naive Bayes']['accuracy']\n",
    "    },\n",
    "    '5 Features': {\n",
    "        'Decision Tree': results_comparison['5 Features']['Decision Tree']['accuracy'],\n",
    "        'Random Forest': results_comparison['5 Features']['Random Forest']['accuracy'],\n",
    "        'Naive Bayes': results_comparison['5 Features']['Naive Bayes']['accuracy']\n",
    "    }\n",
    "})\n",
    "\n",
    "# Combine into one dataframe for side-by-side comparison\n",
    "accuracy_comparison = pd.concat(\n",
    "    {\n",
    "        'Paper': paper_accuracy,\n",
    "        'Your Implementation': your_accuracy\n",
    "    },\n",
    "    axis=1\n",
    ")\n",
    "\n",
    "# Plotting\n",
    "plt.figure(figsize=(16, 8))  # Adjust figure size for better readability\n",
    "\n",
    "# Use Seaborn for enhanced styling\n",
    "sns.set_style(\"whitegrid\")\n",
    "accuracy_comparison.plot(kind='bar', ax=plt.gca()) # Use current axes for seaborn style\n",
    "\n",
    "plt.title('Accuracy Comparison: Paper vs Your Implementation', fontsize=16)\n",
    "plt.ylabel('Accuracy', fontsize=12)\n",
    "plt.ylim(0, 1.0)\n",
    "plt.xticks(rotation=0, fontsize=10)\n",
    "plt.yticks(fontsize=10)\n",
    "plt.legend(title='Source', bbox_to_anchor=(1.05, 1), loc='upper left', fontsize=10)\n",
    "plt.tight_layout()\n",
    "\n",
    "# Add value labels on top of the bars\n",
    "for p in plt.gca().patches:\n",
    "    height = p.get_height()\n",
    "    plt.gca().text(p.get_x() + p.get_width() / 2., height + 0.005,\n",
    "                 f'{height:.2f}',\n",
    "                 ha='center', va='bottom', fontsize=9)\n",
    "\n",
    "plt.show()"
   ]
  },
  {
   "cell_type": "markdown",
   "metadata": {
    "id": "CL6Silu6PUnW"
   },
   "source": [
    "# Comparative Analysis for MLflow"
   ]
  },
  {
   "cell_type": "code",
   "execution_count": 28,
   "metadata": {},
   "outputs": [
    {
     "name": "stdout",
     "output_type": "stream",
     "text": [
      "🏃 View run Accuracy Comparison at: http://mlflow:5000/#/experiments/766733439696880257/runs/f6ff532cb7d24836be54cb7a43e20c5c\n",
      "🧪 View experiment at: http://mlflow:5000/#/experiments/766733439696880257\n",
      "MLflow run for accuracy comparison logged to: http://mlflow:5000\n"
     ]
    }
   ],
   "source": [
    "with mlflow.start_run(run_name=\"Accuracy Comparison\"):\n",
    "    \n",
    "\n",
    "    # Plotting\n",
    "    plt.figure(figsize=(12, 6))\n",
    "    sns.set_style(\"whitegrid\")\n",
    "    accuracy_comparison.plot(kind='bar', ax=plt.gca())\n",
    "\n",
    "    plt.title('Accuracy Comparison: Paper vs Your Implementation', fontsize=16)\n",
    "    plt.ylabel('Accuracy', fontsize=12)\n",
    "    plt.ylim(0, 1.0)\n",
    "    plt.xticks(rotation=0, fontsize=10)\n",
    "    plt.yticks(fontsize=10)\n",
    "    plt.legend(title='Source', bbox_to_anchor=(1.05, 1), loc='upper left', fontsize=10)\n",
    "    plt.tight_layout()\n",
    "\n",
    "    # Save the plot as an image artifact\n",
    "    plt.savefig(\"accuracy_comparison_plot.png\")\n",
    "    mlflow.log_artifact(\"accuracy_comparison_plot.png\")\n",
    "    plt.close() # Close the plot to free up resources\n",
    "\n",
    "    # Add value labels on top of the bars (optional, but can be helpful)\n",
    "    # fig, ax = plt.subplots(figsize=(16, 8))\n",
    "    # sns.set_style(\"whitegrid\")\n",
    "    # accuracy_comparison.plot(kind='bar', ax=ax)\n",
    "    # ax.set_title('Accuracy Comparison: Paper vs Your Implementation', fontsize=16)\n",
    "    # ax.set_ylabel('Accuracy', fontsize=12)\n",
    "    # ax.set_ylim(0, 1.0)\n",
    "    # ax.tick_params(axis='x', rotation=0, fontsize=10)\n",
    "    # ax.tick_params(axis='y', fontsize=10)\n",
    "    # ax.legend(title='Source', bbox_to_anchor=(1.05, 1), loc='upper left', fontsize=10)\n",
    "    # for p in ax.patches:\n",
    "    #     height = p.get_height()\n",
    "    #     ax.text(p.get_x() + p.get_width() / 2., height + 0.005,\n",
    "    #             f'{height:.2f}',\n",
    "    #             ha='center', va='bottom', fontsize=9)\n",
    "    # plt.tight_layout()\n",
    "    # plt.savefig(\"accuracy_comparison_plot_with_values.png\")\n",
    "    # mlflow.log_artifact(\"accuracy_comparison_plot_with_values.png\")\n",
    "    # plt.close(fig)\n",
    "\n",
    "print(f\"MLflow run for accuracy comparison logged to: http://mlflow:5000\")"
   ]
  },
  {
   "cell_type": "code",
   "execution_count": 30,
   "metadata": {},
   "outputs": [
    {
     "name": "stdout",
     "output_type": "stream",
     "text": [
      "\n",
      "--- Evaluating with 3 Features (KBest) ---\n"
     ]
    },
    {
     "name": "stderr",
     "output_type": "stream",
     "text": [
      "\u001b[31m2025/06/02 10:49:08 WARNING mlflow.models.model: Model logged without a signature and input example. Please set `input_example` parameter when logging the model to auto infer the model signature.\u001b[0m\n"
     ]
    },
    {
     "name": "stdout",
     "output_type": "stream",
     "text": [
      "🏃 View run Naive Bayes - 3 Features (KBest) at: http://mlflow:5000/#/experiments/766733439696880257/runs/cbe052ae281a4b5ea64e81fb1fa55d78\n",
      "🧪 View experiment at: http://mlflow:5000/#/experiments/766733439696880257\n"
     ]
    },
    {
     "name": "stderr",
     "output_type": "stream",
     "text": [
      "\u001b[31m2025/06/02 10:49:14 WARNING mlflow.models.model: Model logged without a signature and input example. Please set `input_example` parameter when logging the model to auto infer the model signature.\u001b[0m\n"
     ]
    },
    {
     "name": "stdout",
     "output_type": "stream",
     "text": [
      "🏃 View run K-Nearest Neighbors - 3 Features (KBest) at: http://mlflow:5000/#/experiments/766733439696880257/runs/f8e6b1a5fed14d1f981a255abf5ef7a2\n",
      "🧪 View experiment at: http://mlflow:5000/#/experiments/766733439696880257\n"
     ]
    },
    {
     "name": "stderr",
     "output_type": "stream",
     "text": [
      "\u001b[31m2025/06/02 10:49:20 WARNING mlflow.models.model: Model logged without a signature and input example. Please set `input_example` parameter when logging the model to auto infer the model signature.\u001b[0m\n"
     ]
    },
    {
     "name": "stdout",
     "output_type": "stream",
     "text": [
      "🏃 View run Decision Tree - 3 Features (KBest) at: http://mlflow:5000/#/experiments/766733439696880257/runs/191bc528ae6b49158e0ea31c3a0bc26b\n",
      "🧪 View experiment at: http://mlflow:5000/#/experiments/766733439696880257\n"
     ]
    },
    {
     "name": "stderr",
     "output_type": "stream",
     "text": [
      "\u001b[31m2025/06/02 10:49:26 WARNING mlflow.models.model: Model logged without a signature and input example. Please set `input_example` parameter when logging the model to auto infer the model signature.\u001b[0m\n"
     ]
    },
    {
     "name": "stdout",
     "output_type": "stream",
     "text": [
      "🏃 View run Random Forest - 3 Features (KBest) at: http://mlflow:5000/#/experiments/766733439696880257/runs/be3611f2470a4b07b7771e6193aae041\n",
      "🧪 View experiment at: http://mlflow:5000/#/experiments/766733439696880257\n"
     ]
    },
    {
     "name": "stderr",
     "output_type": "stream",
     "text": [
      "\u001b[31m2025/06/02 10:49:32 WARNING mlflow.models.model: Model logged without a signature and input example. Please set `input_example` parameter when logging the model to auto infer the model signature.\u001b[0m\n"
     ]
    },
    {
     "name": "stdout",
     "output_type": "stream",
     "text": [
      "🏃 View run Logistic Regression - 3 Features (KBest) at: http://mlflow:5000/#/experiments/766733439696880257/runs/13d721d6c3584fdc835cc26408947cee\n",
      "🧪 View experiment at: http://mlflow:5000/#/experiments/766733439696880257\n"
     ]
    },
    {
     "name": "stderr",
     "output_type": "stream",
     "text": [
      "\u001b[31m2025/06/02 10:49:38 WARNING mlflow.models.model: Model logged without a signature and input example. Please set `input_example` parameter when logging the model to auto infer the model signature.\u001b[0m\n"
     ]
    },
    {
     "name": "stdout",
     "output_type": "stream",
     "text": [
      "🏃 View run SVM - 3 Features (KBest) at: http://mlflow:5000/#/experiments/766733439696880257/runs/42b0bbe2d2474fbcb4e87bc235134620\n",
      "🧪 View experiment at: http://mlflow:5000/#/experiments/766733439696880257\n",
      "\n",
      "--- Evaluating with 5 Features (KBest) ---\n"
     ]
    },
    {
     "name": "stderr",
     "output_type": "stream",
     "text": [
      "\u001b[31m2025/06/02 10:49:42 WARNING mlflow.models.model: Model logged without a signature and input example. Please set `input_example` parameter when logging the model to auto infer the model signature.\u001b[0m\n"
     ]
    },
    {
     "name": "stdout",
     "output_type": "stream",
     "text": [
      "🏃 View run Naive Bayes - 5 Features (KBest) at: http://mlflow:5000/#/experiments/766733439696880257/runs/9ef6adbf811847628a15373c6ced55ec\n",
      "🧪 View experiment at: http://mlflow:5000/#/experiments/766733439696880257\n"
     ]
    },
    {
     "name": "stderr",
     "output_type": "stream",
     "text": [
      "\u001b[31m2025/06/02 10:49:47 WARNING mlflow.models.model: Model logged without a signature and input example. Please set `input_example` parameter when logging the model to auto infer the model signature.\u001b[0m\n"
     ]
    },
    {
     "name": "stdout",
     "output_type": "stream",
     "text": [
      "🏃 View run K-Nearest Neighbors - 5 Features (KBest) at: http://mlflow:5000/#/experiments/766733439696880257/runs/560eb86df0a444878153de80a38d08a3\n",
      "🧪 View experiment at: http://mlflow:5000/#/experiments/766733439696880257\n"
     ]
    },
    {
     "name": "stderr",
     "output_type": "stream",
     "text": [
      "\u001b[31m2025/06/02 10:49:52 WARNING mlflow.models.model: Model logged without a signature and input example. Please set `input_example` parameter when logging the model to auto infer the model signature.\u001b[0m\n"
     ]
    },
    {
     "name": "stdout",
     "output_type": "stream",
     "text": [
      "🏃 View run Decision Tree - 5 Features (KBest) at: http://mlflow:5000/#/experiments/766733439696880257/runs/21c7a7580c644cc19d00d81dd4908024\n",
      "🧪 View experiment at: http://mlflow:5000/#/experiments/766733439696880257\n"
     ]
    },
    {
     "name": "stderr",
     "output_type": "stream",
     "text": [
      "\u001b[31m2025/06/02 10:49:57 WARNING mlflow.models.model: Model logged without a signature and input example. Please set `input_example` parameter when logging the model to auto infer the model signature.\u001b[0m\n"
     ]
    },
    {
     "name": "stdout",
     "output_type": "stream",
     "text": [
      "🏃 View run Random Forest - 5 Features (KBest) at: http://mlflow:5000/#/experiments/766733439696880257/runs/d605c795b43349588aa08efd8afdf5e1\n",
      "🧪 View experiment at: http://mlflow:5000/#/experiments/766733439696880257\n"
     ]
    },
    {
     "name": "stderr",
     "output_type": "stream",
     "text": [
      "\u001b[31m2025/06/02 10:50:02 WARNING mlflow.models.model: Model logged without a signature and input example. Please set `input_example` parameter when logging the model to auto infer the model signature.\u001b[0m\n"
     ]
    },
    {
     "name": "stdout",
     "output_type": "stream",
     "text": [
      "🏃 View run Logistic Regression - 5 Features (KBest) at: http://mlflow:5000/#/experiments/766733439696880257/runs/bd0134e8f6a147cd890c6dc65f3a425c\n",
      "🧪 View experiment at: http://mlflow:5000/#/experiments/766733439696880257\n"
     ]
    },
    {
     "name": "stderr",
     "output_type": "stream",
     "text": [
      "\u001b[31m2025/06/02 10:50:06 WARNING mlflow.models.model: Model logged without a signature and input example. Please set `input_example` parameter when logging the model to auto infer the model signature.\u001b[0m\n"
     ]
    },
    {
     "name": "stdout",
     "output_type": "stream",
     "text": [
      "🏃 View run SVM - 5 Features (KBest) at: http://mlflow:5000/#/experiments/766733439696880257/runs/ecbd51def1cc42a281fecdf67623bd29\n",
      "🧪 View experiment at: http://mlflow:5000/#/experiments/766733439696880257\n",
      "\n",
      "--- Evaluating with 3 Components (PCA) ---\n"
     ]
    },
    {
     "name": "stderr",
     "output_type": "stream",
     "text": [
      "\u001b[31m2025/06/02 10:50:11 WARNING mlflow.models.model: Model logged without a signature and input example. Please set `input_example` parameter when logging the model to auto infer the model signature.\u001b[0m\n"
     ]
    },
    {
     "name": "stdout",
     "output_type": "stream",
     "text": [
      "🏃 View run Naive Bayes - 3 Components (PCA) at: http://mlflow:5000/#/experiments/766733439696880257/runs/4478c6f1835f4e748eb01888bafb060c\n",
      "🧪 View experiment at: http://mlflow:5000/#/experiments/766733439696880257\n"
     ]
    },
    {
     "name": "stderr",
     "output_type": "stream",
     "text": [
      "\u001b[31m2025/06/02 10:50:17 WARNING mlflow.models.model: Model logged without a signature and input example. Please set `input_example` parameter when logging the model to auto infer the model signature.\u001b[0m\n"
     ]
    },
    {
     "name": "stdout",
     "output_type": "stream",
     "text": [
      "🏃 View run K-Nearest Neighbors - 3 Components (PCA) at: http://mlflow:5000/#/experiments/766733439696880257/runs/9f79987e5c1e42c286dcd4ff10b38edb\n",
      "🧪 View experiment at: http://mlflow:5000/#/experiments/766733439696880257\n"
     ]
    },
    {
     "name": "stderr",
     "output_type": "stream",
     "text": [
      "\u001b[31m2025/06/02 10:50:23 WARNING mlflow.models.model: Model logged without a signature and input example. Please set `input_example` parameter when logging the model to auto infer the model signature.\u001b[0m\n"
     ]
    },
    {
     "name": "stdout",
     "output_type": "stream",
     "text": [
      "🏃 View run Decision Tree - 3 Components (PCA) at: http://mlflow:5000/#/experiments/766733439696880257/runs/43d89dcb51d34d998dee6c66d8ed8cb7\n",
      "🧪 View experiment at: http://mlflow:5000/#/experiments/766733439696880257\n"
     ]
    },
    {
     "name": "stderr",
     "output_type": "stream",
     "text": [
      "\u001b[31m2025/06/02 10:50:28 WARNING mlflow.models.model: Model logged without a signature and input example. Please set `input_example` parameter when logging the model to auto infer the model signature.\u001b[0m\n"
     ]
    },
    {
     "name": "stdout",
     "output_type": "stream",
     "text": [
      "🏃 View run Random Forest - 3 Components (PCA) at: http://mlflow:5000/#/experiments/766733439696880257/runs/739a97ee955a4458a533de8994010f1f\n",
      "🧪 View experiment at: http://mlflow:5000/#/experiments/766733439696880257\n"
     ]
    },
    {
     "name": "stderr",
     "output_type": "stream",
     "text": [
      "\u001b[31m2025/06/02 10:50:33 WARNING mlflow.models.model: Model logged without a signature and input example. Please set `input_example` parameter when logging the model to auto infer the model signature.\u001b[0m\n"
     ]
    },
    {
     "name": "stdout",
     "output_type": "stream",
     "text": [
      "🏃 View run Logistic Regression - 3 Components (PCA) at: http://mlflow:5000/#/experiments/766733439696880257/runs/8f8952a1a5c64a859cb4c9d9cfca34a7\n",
      "🧪 View experiment at: http://mlflow:5000/#/experiments/766733439696880257\n"
     ]
    },
    {
     "name": "stderr",
     "output_type": "stream",
     "text": [
      "\u001b[31m2025/06/02 10:50:37 WARNING mlflow.models.model: Model logged without a signature and input example. Please set `input_example` parameter when logging the model to auto infer the model signature.\u001b[0m\n"
     ]
    },
    {
     "name": "stdout",
     "output_type": "stream",
     "text": [
      "🏃 View run SVM - 3 Components (PCA) at: http://mlflow:5000/#/experiments/766733439696880257/runs/003ceb2c698f4ac4b3ad97c81b788298\n",
      "🧪 View experiment at: http://mlflow:5000/#/experiments/766733439696880257\n",
      "\n",
      "--- Evaluating with 5 Components (PCA) ---\n"
     ]
    },
    {
     "name": "stderr",
     "output_type": "stream",
     "text": [
      "\u001b[31m2025/06/02 10:50:42 WARNING mlflow.models.model: Model logged without a signature and input example. Please set `input_example` parameter when logging the model to auto infer the model signature.\u001b[0m\n"
     ]
    },
    {
     "name": "stdout",
     "output_type": "stream",
     "text": [
      "🏃 View run Naive Bayes - 5 Components (PCA) at: http://mlflow:5000/#/experiments/766733439696880257/runs/dad1d28f147d47d2884ca7a52c419f53\n",
      "🧪 View experiment at: http://mlflow:5000/#/experiments/766733439696880257\n"
     ]
    },
    {
     "name": "stderr",
     "output_type": "stream",
     "text": [
      "\u001b[31m2025/06/02 10:50:46 WARNING mlflow.models.model: Model logged without a signature and input example. Please set `input_example` parameter when logging the model to auto infer the model signature.\u001b[0m\n"
     ]
    },
    {
     "name": "stdout",
     "output_type": "stream",
     "text": [
      "🏃 View run K-Nearest Neighbors - 5 Components (PCA) at: http://mlflow:5000/#/experiments/766733439696880257/runs/8330b6f2ff7d4f43a213aebf11a3beb9\n",
      "🧪 View experiment at: http://mlflow:5000/#/experiments/766733439696880257\n"
     ]
    },
    {
     "name": "stderr",
     "output_type": "stream",
     "text": [
      "\u001b[31m2025/06/02 10:50:51 WARNING mlflow.models.model: Model logged without a signature and input example. Please set `input_example` parameter when logging the model to auto infer the model signature.\u001b[0m\n"
     ]
    },
    {
     "name": "stdout",
     "output_type": "stream",
     "text": [
      "🏃 View run Decision Tree - 5 Components (PCA) at: http://mlflow:5000/#/experiments/766733439696880257/runs/113d090ecbc3451ba335e6f4ac75a45c\n",
      "🧪 View experiment at: http://mlflow:5000/#/experiments/766733439696880257\n"
     ]
    },
    {
     "name": "stderr",
     "output_type": "stream",
     "text": [
      "\u001b[31m2025/06/02 10:50:56 WARNING mlflow.models.model: Model logged without a signature and input example. Please set `input_example` parameter when logging the model to auto infer the model signature.\u001b[0m\n"
     ]
    },
    {
     "name": "stdout",
     "output_type": "stream",
     "text": [
      "🏃 View run Random Forest - 5 Components (PCA) at: http://mlflow:5000/#/experiments/766733439696880257/runs/e78964f118c34ab79cae36263c705449\n",
      "🧪 View experiment at: http://mlflow:5000/#/experiments/766733439696880257\n"
     ]
    },
    {
     "name": "stderr",
     "output_type": "stream",
     "text": [
      "\u001b[31m2025/06/02 10:51:00 WARNING mlflow.models.model: Model logged without a signature and input example. Please set `input_example` parameter when logging the model to auto infer the model signature.\u001b[0m\n"
     ]
    },
    {
     "name": "stdout",
     "output_type": "stream",
     "text": [
      "🏃 View run Logistic Regression - 5 Components (PCA) at: http://mlflow:5000/#/experiments/766733439696880257/runs/912a9919984c40e0ad7decad91100259\n",
      "🧪 View experiment at: http://mlflow:5000/#/experiments/766733439696880257\n"
     ]
    },
    {
     "name": "stderr",
     "output_type": "stream",
     "text": [
      "\u001b[31m2025/06/02 10:51:05 WARNING mlflow.models.model: Model logged without a signature and input example. Please set `input_example` parameter when logging the model to auto infer the model signature.\u001b[0m\n"
     ]
    },
    {
     "name": "stdout",
     "output_type": "stream",
     "text": [
      "🏃 View run SVM - 5 Components (PCA) at: http://mlflow:5000/#/experiments/766733439696880257/runs/1975dea9a2914322b7c4e16bdb2eb21b\n",
      "🧪 View experiment at: http://mlflow:5000/#/experiments/766733439696880257\n",
      "\n",
      "--- Evaluating with All Features ---\n"
     ]
    },
    {
     "name": "stderr",
     "output_type": "stream",
     "text": [
      "\u001b[31m2025/06/02 10:51:09 WARNING mlflow.models.model: Model logged without a signature and input example. Please set `input_example` parameter when logging the model to auto infer the model signature.\u001b[0m\n"
     ]
    },
    {
     "name": "stdout",
     "output_type": "stream",
     "text": [
      "🏃 View run Naive Bayes - All Features at: http://mlflow:5000/#/experiments/766733439696880257/runs/df7c1edb1c694812a0bd83aaa90cfa11\n",
      "🧪 View experiment at: http://mlflow:5000/#/experiments/766733439696880257\n"
     ]
    },
    {
     "name": "stderr",
     "output_type": "stream",
     "text": [
      "\u001b[31m2025/06/02 10:51:14 WARNING mlflow.models.model: Model logged without a signature and input example. Please set `input_example` parameter when logging the model to auto infer the model signature.\u001b[0m\n"
     ]
    },
    {
     "name": "stdout",
     "output_type": "stream",
     "text": [
      "🏃 View run K-Nearest Neighbors - All Features at: http://mlflow:5000/#/experiments/766733439696880257/runs/2cf09b890c3c402fb5cd7c5498eb03d4\n",
      "🧪 View experiment at: http://mlflow:5000/#/experiments/766733439696880257\n"
     ]
    },
    {
     "name": "stderr",
     "output_type": "stream",
     "text": [
      "\u001b[31m2025/06/02 10:51:20 WARNING mlflow.models.model: Model logged without a signature and input example. Please set `input_example` parameter when logging the model to auto infer the model signature.\u001b[0m\n"
     ]
    },
    {
     "name": "stdout",
     "output_type": "stream",
     "text": [
      "🏃 View run Decision Tree - All Features at: http://mlflow:5000/#/experiments/766733439696880257/runs/dbc118e21b2b4a86a182f21f185af03b\n",
      "🧪 View experiment at: http://mlflow:5000/#/experiments/766733439696880257\n"
     ]
    },
    {
     "name": "stderr",
     "output_type": "stream",
     "text": [
      "\u001b[31m2025/06/02 10:51:27 WARNING mlflow.models.model: Model logged without a signature and input example. Please set `input_example` parameter when logging the model to auto infer the model signature.\u001b[0m\n"
     ]
    },
    {
     "name": "stdout",
     "output_type": "stream",
     "text": [
      "🏃 View run Random Forest - All Features at: http://mlflow:5000/#/experiments/766733439696880257/runs/8fd33e880ac24ddf85f38c4a5cefea2e\n",
      "🧪 View experiment at: http://mlflow:5000/#/experiments/766733439696880257\n"
     ]
    },
    {
     "name": "stderr",
     "output_type": "stream",
     "text": [
      "\u001b[31m2025/06/02 10:51:34 WARNING mlflow.models.model: Model logged without a signature and input example. Please set `input_example` parameter when logging the model to auto infer the model signature.\u001b[0m\n"
     ]
    },
    {
     "name": "stdout",
     "output_type": "stream",
     "text": [
      "🏃 View run Logistic Regression - All Features at: http://mlflow:5000/#/experiments/766733439696880257/runs/01836fc712f44806948510c645a15ea2\n",
      "🧪 View experiment at: http://mlflow:5000/#/experiments/766733439696880257\n"
     ]
    },
    {
     "name": "stderr",
     "output_type": "stream",
     "text": [
      "\u001b[31m2025/06/02 10:51:41 WARNING mlflow.models.model: Model logged without a signature and input example. Please set `input_example` parameter when logging the model to auto infer the model signature.\u001b[0m\n"
     ]
    },
    {
     "name": "stdout",
     "output_type": "stream",
     "text": [
      "🏃 View run SVM - All Features at: http://mlflow:5000/#/experiments/766733439696880257/runs/cc3cf67d857748a08a51103ad1f72ca5\n",
      "🧪 View experiment at: http://mlflow:5000/#/experiments/766733439696880257\n",
      "\n",
      "--- Performance Comparison Across Feature Sets ---\n",
      "\n",
      "--- Accuracy ---\n",
      "                     3 Features (KBest)  5 Features (KBest)  \\\n",
      "Naive Bayes                    0.688312            0.688312   \n",
      "K-Nearest Neighbors            0.733766            0.727273   \n",
      "Decision Tree                  0.655844            0.655844   \n",
      "Random Forest                  0.688312            0.753247   \n",
      "Logistic Regression            0.720779            0.720779   \n",
      "SVM                            0.701299            0.707792   \n",
      "\n",
      "                     3 Components (PCA)  5 Components (PCA)  All Features  \n",
      "Naive Bayes                    0.675325            0.668831      0.694805  \n",
      "K-Nearest Neighbors            0.714286            0.694805      0.746753  \n",
      "Decision Tree                  0.707792            0.655844      0.642857  \n",
      "Random Forest                  0.701299            0.720779      0.785714  \n",
      "Logistic Regression            0.707792            0.694805      0.694805  \n",
      "SVM                            0.727273            0.701299      0.733766  \n",
      "\n",
      "--- Precision ---\n",
      "                     3 Features (KBest)  5 Features (KBest)  \\\n",
      "Naive Bayes                    0.568182            0.555556   \n",
      "K-Nearest Neighbors            0.651163            0.611111   \n",
      "Decision Tree                  0.511111            0.508772   \n",
      "Random Forest                  0.568182            0.648148   \n",
      "Logistic Regression            0.627907            0.617021   \n",
      "SVM                            0.605263            0.600000   \n",
      "\n",
      "                     3 Components (PCA)  5 Components (PCA)  All Features  \n",
      "Naive Bayes                    0.541667            0.528302      0.557377  \n",
      "K-Nearest Neighbors            0.596154            0.563636      0.647059  \n",
      "Decision Tree                  0.578947            0.508772      0.490566  \n",
      "Random Forest                  0.568966            0.584615      0.723404  \n",
      "Logistic Regression            0.588235            0.568627      0.577778  \n",
      "SVM                            0.615385            0.583333      0.644444  \n",
      "\n",
      "--- Recall ---\n",
      "                     3 Features (KBest)  5 Features (KBest)  \\\n",
      "Naive Bayes                    0.462963            0.555556   \n",
      "K-Nearest Neighbors            0.518519            0.611111   \n",
      "Decision Tree                  0.425926            0.537037   \n",
      "Random Forest                  0.462963            0.648148   \n",
      "Logistic Regression            0.500000            0.537037   \n",
      "SVM                            0.425926            0.500000   \n",
      "\n",
      "                     3 Components (PCA)  5 Components (PCA)  All Features  \n",
      "Naive Bayes                    0.481481            0.518519      0.629630  \n",
      "K-Nearest Neighbors            0.574074            0.574074      0.611111  \n",
      "Decision Tree                  0.611111            0.537037      0.481481  \n",
      "Random Forest                  0.611111            0.703704      0.629630  \n",
      "Logistic Regression            0.555556            0.537037      0.481481  \n",
      "SVM                            0.592593            0.518519      0.537037  \n",
      "\n",
      "--- F1 ---\n",
      "                     3 Features (KBest)  5 Features (KBest)  \\\n",
      "Naive Bayes                    0.510204            0.555556   \n",
      "K-Nearest Neighbors            0.577320            0.611111   \n",
      "Decision Tree                  0.464646            0.522523   \n",
      "Random Forest                  0.510204            0.648148   \n",
      "Logistic Regression            0.556701            0.574257   \n",
      "SVM                            0.500000            0.545455   \n",
      "\n",
      "                     3 Components (PCA)  5 Components (PCA)  All Features  \n",
      "Naive Bayes                    0.509804            0.523364      0.591304  \n",
      "K-Nearest Neighbors            0.584906            0.568807      0.628571  \n",
      "Decision Tree                  0.594595            0.522523      0.485981  \n",
      "Random Forest                  0.589286            0.638655      0.673267  \n",
      "Logistic Regression            0.571429            0.552381      0.525253  \n",
      "SVM                            0.603774            0.549020      0.585859  \n",
      "🏃 View run Pima Diabetes Analysis with PCA at: http://mlflow:5000/#/experiments/766733439696880257/runs/bd15825bdbf24a6f91c25a3c49c6a1fd\n",
      "🧪 View experiment at: http://mlflow:5000/#/experiments/766733439696880257\n"
     ]
    },
    {
     "data": {
      "text/plain": [
       "<Figure size 1200x700 with 0 Axes>"
      ]
     },
     "metadata": {},
     "output_type": "display_data"
    },
    {
     "data": {
      "text/plain": [
       "<Figure size 1200x700 with 0 Axes>"
      ]
     },
     "metadata": {},
     "output_type": "display_data"
    },
    {
     "data": {
      "text/plain": [
       "<Figure size 1200x700 with 0 Axes>"
      ]
     },
     "metadata": {},
     "output_type": "display_data"
    },
    {
     "data": {
      "text/plain": [
       "<Figure size 1200x700 with 0 Axes>"
      ]
     },
     "metadata": {},
     "output_type": "display_data"
    }
   ],
   "source": [
    "from sklearn.decomposition import PCA # Import PCA\n",
    "\n",
    "\n",
    "if mlflow.active_run():\n",
    "    mlflow.end_run()\n",
    "\n",
    "with mlflow.start_run(run_name=\"Pima Diabetes Analysis with PCA\"):\n",
    "    results_comparison = {}\n",
    "    feature_sets = {\n",
    "        '3 Features (KBest)': 3,\n",
    "        '5 Features (KBest)': 5,\n",
    "        '3 Components (PCA)': 3,\n",
    "        '5 Components (PCA)': 5,\n",
    "        'All Features': X_train.shape[1]\n",
    "    }\n",
    "    models = {\n",
    "        'Naive Bayes': GaussianNB(),\n",
    "        'K-Nearest Neighbors': KNeighborsClassifier(n_neighbors=7),\n",
    "        'Decision Tree': DecisionTreeClassifier(criterion='entropy', random_state=42),\n",
    "        'Random Forest': RandomForestClassifier(n_estimators=50, random_state=42),\n",
    "        'Logistic Regression': LogisticRegression(max_iter=1000, random_state=42),\n",
    "        'SVM': SVC(probability=True, random_state=42)\n",
    "    }\n",
    "\n",
    "    for fs_name, n_features in feature_sets.items():\n",
    "        mlflow.set_tag(\"feature_set\", fs_name)\n",
    "        print(f\"\\n--- Evaluating with {fs_name} ---\")\n",
    "\n",
    "        X_train_processed = None\n",
    "        X_test_processed = None\n",
    "        current_explained_variance_ratio = None # Variable to temporarily hold explained variance\n",
    "\n",
    "        if 'KBest' in fs_name:\n",
    "            selector = SelectKBest(score_func=f_classif, k=n_features)\n",
    "            X_train_selected = selector.fit_transform(X_train, y_train)\n",
    "            X_test_selected = selector.transform(X_test)\n",
    "\n",
    "            scaler_fs = StandardScaler()\n",
    "            X_train_processed = scaler_fs.fit_transform(X_train_selected)\n",
    "            X_test_processed = scaler_fs.transform(X_test_selected)\n",
    "\n",
    "        elif 'PCA' in fs_name:\n",
    "            scaler_pca = StandardScaler()\n",
    "            X_train_scaled_for_pca = scaler_pca.fit_transform(X_train)\n",
    "            X_test_scaled_for_pca = scaler_pca.transform(X_test)\n",
    "\n",
    "            pca = PCA(n_components=n_features)\n",
    "            X_train_processed = pca.fit_transform(X_train_scaled_for_pca)\n",
    "            X_test_processed = pca.transform(X_test_scaled_for_pca)\n",
    "            # Store explained variance ratio in the temporary variable\n",
    "            current_explained_variance_ratio = pca.explained_variance_ratio_.sum()\n",
    "\n",
    "        else: # All Features\n",
    "            scaler_fs = StandardScaler()\n",
    "            X_train_processed = scaler_fs.fit_transform(X_train)\n",
    "            X_test_processed = scaler_fs.transform(X_test)\n",
    "\n",
    "        results_comparison[fs_name] = {}\n",
    "\n",
    "        for model_name, model in models.items():\n",
    "            with mlflow.start_run(run_name=f\"{model_name} - {fs_name}\", nested=True):\n",
    "                mlflow.log_param(\"n_features\", n_features)\n",
    "                mlflow.log_param(\"feature_set_name\", fs_name)\n",
    "                mlflow.log_param(\"model_name\", model_name)\n",
    "\n",
    "                # Log explained_variance_ratio ONLY if it's a PCA run\n",
    "                if 'PCA' in fs_name and current_explained_variance_ratio is not None:\n",
    "                    mlflow.log_param(\"explained_variance_ratio\", current_explained_variance_ratio)\n",
    "\n",
    "                try:\n",
    "                    # For models that require scaling (LR, SVM, KNN), use the scaled data\n",
    "                    if model_name in ['Logistic Regression', 'SVM', 'K-Nearest Neighbors']:\n",
    "                        model.fit(X_train_processed, y_train)\n",
    "                        y_pred = model.predict(X_test_processed)\n",
    "                    else:\n",
    "                        model.fit(X_train_processed, y_train)\n",
    "                        y_pred = model.predict(X_test_processed)\n",
    "\n",
    "                    acc = accuracy_score(y_test, y_pred)\n",
    "                    prec = precision_score(y_test, y_pred)\n",
    "                    rec = recall_score(y_test, y_pred)\n",
    "                    f1 = f1_score(y_test, y_pred)\n",
    "\n",
    "                    mlflow.log_metric(\"accuracy\", acc)\n",
    "                    mlflow.log_metric(\"precision\", prec)\n",
    "                    mlflow.log_metric(\"recall\", rec)\n",
    "                    mlflow.log_metric(\"f1_score\", f1)\n",
    "                    mlflow.sklearn.log_model(model, f\"{model_name.replace(' ', '_')}_{fs_name.replace(' ', '_')}\")\n",
    "\n",
    "                    cm = confusion_matrix(y_test, y_pred)\n",
    "                    plt.figure(figsize=(8, 6))\n",
    "                    sns.heatmap(cm, annot=True, fmt='d', cmap='Blues',\n",
    "                                xticklabels=['No Diabetes', 'Diabetes'], yticklabels=['No Diabetes', 'Diabetes'])\n",
    "                    plt.xlabel('Predicted Label')\n",
    "                    plt.ylabel('True Label')\n",
    "                    plt.title(f'Confusion Matrix - {model_name} - {fs_name}')\n",
    "                    mlflow.log_figure(plt.gcf(), f\"confusion_matrix_{model_name.replace(' ', '_')}_{fs_name.replace(' ', '_')}.png\")\n",
    "                    plt.close()\n",
    "\n",
    "                    if fs_name not in results_comparison:\n",
    "                        results_comparison[fs_name] = {}\n",
    "                    results_comparison[fs_name][model_name] = {\n",
    "                        'accuracy': acc,\n",
    "                        'precision': prec,\n",
    "                        'recall': rec,\n",
    "                        'f1': f1\n",
    "                    }\n",
    "\n",
    "                except Exception as e:\n",
    "                    print(f\"Error during model evaluation ({model_name} - {fs_name}): {e}\")\n",
    "\n",
    "    # --- Performance Comparison Across Feature Sets ---\n",
    "    print(\"\\n--- Performance Comparison Across Feature Sets ---\")\n",
    "    for metric in ['accuracy', 'precision', 'recall', 'f1']:\n",
    "        print(f\"\\n--- {metric.capitalize()} ---\")\n",
    "        metric_data = {}\n",
    "        for fs_name in feature_sets:\n",
    "            metric_data[fs_name] = {}\n",
    "            for model_name in models:\n",
    "                if fs_name in results_comparison and model_name in results_comparison[fs_name] and metric in results_comparison[fs_name][model_name]:\n",
    "                    metric_data[fs_name][model_name] = results_comparison[fs_name][model_name][metric]\n",
    "                else:\n",
    "                    metric_data[fs_name][model_name] = float('nan') # Handle missing data\n",
    "\n",
    "        df_metric = pd.DataFrame(metric_data)\n",
    "        print(df_metric)\n",
    "\n",
    "        # Generate and log the comparison plot to MLflow\n",
    "        plt.figure(figsize=(12, 7))\n",
    "        df_metric.plot(kind='bar', figsize=(12, 7))\n",
    "        plt.title(f'{metric.capitalize()} Comparison Across Feature Sets')\n",
    "        plt.ylabel(metric.capitalize())\n",
    "        plt.xticks(rotation=45, ha='right')\n",
    "        plt.tight_layout()\n",
    "        mlflow.log_figure(plt.gcf(), f\"{metric}_comparison_across_feature_sets.png\")\n",
    "        plt.close()"
   ]
  },
  {
   "cell_type": "markdown",
   "metadata": {
    "id": "CL6Silu6PUnW"
   },
   "source": [
    "# CONCLUSION:\n",
    "\n",
    "Analysis of \"Pima Indians Diabetes Mellitus Classification Based on Machine Learning (ML) Algorithms\" and Extended Implementation\n",
    "\n",
    "This report details the analysis and extension of the research paper \"Pima Indians diabetes mellitus classification based on machine learning (ML) algorithms.\" Conducted by Sumair Javed (SP25-RAI-019) and Iqra Rathore (SP25-RAI-018), this study aimed to replicate and expand upon the findings of the original paper.\n",
    "\n",
    "1. The original research focused on the application of three machine learning algorithms for the classification of diabetes in the Pima Indians dataset: J48 Decision Tree, Random Forest, and Naive Bayes. In our extended implementation, we not only reproduced the evaluation of these three algorithms but also incorporated three additional classification models: Logistic Regression, K-Nearest Neighbors (KNN), and Support Vector Machines (SVM).\n",
    "\n",
    "2. The performance of all six models was systematically evaluated across different feature subsets: the top 3 features, the top 5 features, and all available features within the dataset. We did PCA and Sklearn SelectkBest for Feature selection. The accuracy metrics for each model and feature set combination were meticulously tracked and visualized using the MLflow platform. This enabled a comprehensive comparison of model performance under varying input dimensionality.\n",
    "\n",
    "Furthermore, a direct comparison was made between the accuracy results obtained in our implementation and those reported in the original research paper for the common algorithms (J48 Decision Tree, Random Forest, and Naive Bayes). The results of this comparison, also visualized using bar plots and logged in MLflow, indicated that the accuracy achieved in the original paper was generally superior to that of our implementation across the shared models and feature sets.\n",
    "\n",
    "In conclusion, while our study successfully extended the original research by evaluating a broader range of classification algorithms and performing a detailed comparison across different feature sets, the observed discrepancy in accuracy compared to the original paper highlights the critical role of data preprocessing, dataset partitioning, and potentially subtle differences in the experimental setup. Further investigation into the specific methodologies employed in the original research would be necessary to pinpoint the exact reasons for the superior performance reported therein. The comprehensive tracking in MLflow provides a valuable platform for future experiments aimed at understanding and potentially bridging this performance gap."
   ]
  }
 ],
 "metadata": {
  "colab": {
   "collapsed_sections": [
    "7gwyQNQKJN45",
    "hVdbIdXYw1rW",
    "oDKFEx0e5N4J",
    "3OeA4PLgxSW4",
    "XgT4thLy6MrE",
    "Vfi0ruOY7Yqy",
    "VtG1o2Na76tL",
    "QQBpWAko81xJ",
    "RNM8Gru-KRTy",
    "CL6Silu6PUnW"
   ],
   "provenance": [],
   "toc_visible": true
  },
  "kernelspec": {
   "display_name": "Python 3 (ipykernel)",
   "language": "python",
   "name": "python3"
  },
  "language_info": {
   "codemirror_mode": {
    "name": "ipython",
    "version": 3
   },
   "file_extension": ".py",
   "mimetype": "text/x-python",
   "name": "python",
   "nbconvert_exporter": "python",
   "pygments_lexer": "ipython3",
   "version": "3.11.6"
  }
 },
 "nbformat": 4,
 "nbformat_minor": 4
}
